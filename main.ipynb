{
  "cells": [
    {
      "cell_type": "code",
      "execution_count": 1,
      "metadata": {
        "colab": {
          "base_uri": "https://localhost:8080/"
        },
        "id": "QWlT6I9iVDoL",
        "outputId": "b061822e-b16c-4f10-9514-acd8897a43af"
      },
      "outputs": [
        {
          "output_type": "stream",
          "name": "stderr",
          "text": [
            "/usr/local/lib/python3.7/dist-packages/statsmodels/tools/_testing.py:19: FutureWarning: pandas.util.testing is deprecated. Use the functions in the public API at pandas.testing instead.\n",
            "  import pandas.util.testing as tm\n"
          ]
        }
      ],
      "source": [
        "import sys\n",
        "import pandas as pd\n",
        "import matplotlib.pyplot as plt\n",
        "import numpy as np\n",
        "import seaborn as sns\n",
        "import statsmodels.api as sm\n",
        "import statsmodels.formula.api as smf"
      ]
    },
    {
      "cell_type": "markdown",
      "metadata": {
        "id": "1_aLv5e9VDoQ"
      },
      "source": [
        "## Thu nhập dữ liệu"
      ]
    },
    {
      "cell_type": "code",
      "execution_count": 2,
      "metadata": {
        "colab": {
          "base_uri": "https://localhost:8080/",
          "height": 641
        },
        "id": "itZYq0IbVDoS",
        "outputId": "5f05fac0-8529-4c2d-c878-5716405638cd"
      },
      "outputs": [
        {
          "output_type": "execute_result",
          "data": {
            "text/plain": [
              "       Unnamed: 0        Ngày  \\\n",
              "0             0.0  2020-08-05   \n",
              "1             1.0  2020-08-05   \n",
              "2             2.0  2020-08-05   \n",
              "3             3.0  2020-08-05   \n",
              "4             4.0  2020-08-05   \n",
              "...           ...         ...   \n",
              "82492     82492.0  2019-08-07   \n",
              "82493     82493.0  2019-08-07   \n",
              "82494     82494.0  2019-08-05   \n",
              "82495     82495.0  2019-08-05   \n",
              "82496         NaN         NaN   \n",
              "\n",
              "                                                 Địa chỉ               Quận  \\\n",
              "0      Đường Hoàng Quốc Việt, Phường Nghĩa Đô, Quận C...      Quận Cầu Giấy   \n",
              "1      Đường Kim Giang, Phường Kim Giang, Quận Thanh ...    Quận Thanh Xuân   \n",
              "2      phố minh khai, Phường Minh Khai, Quận Hai Bà T...  Quận Hai Bà Trưng   \n",
              "3      Đường Võng Thị, Phường Thụy Khuê, Quận Tây Hồ,...        Quận Tây Hồ   \n",
              "4      Đường Kim Giang, Phường Kim Giang, Quận Thanh ...    Quận Thanh Xuân   \n",
              "...                                                  ...                ...   \n",
              "82492  Đường Trần Quốc Hoàn, Phường Quan Hoa, Quận Cầ...      Quận Cầu Giấy   \n",
              "82493  Đường Nguyễn Khánh Toàn, Phường Quan Hoa, Quận...      Quận Cầu Giấy   \n",
              "82494  Đường Quan Hoa, Phường Quan Hoa, Quận Cầu Giấy...      Quận Cầu Giấy   \n",
              "82495  Đường Hồ Tùng Mậu, Phường Mai Dịch, Quận Cầu G...      Quận Cầu Giấy   \n",
              "82496                                                NaN                NaN   \n",
              "\n",
              "                  Huyện        Loại hình nhà ở Giấy tờ pháp lý Số tầng  \\\n",
              "0       Phường Nghĩa Đô           Nhà ngõ, hẻm        Đã có sổ       4   \n",
              "1      Phường Kim Giang  Nhà mặt phố, mặt tiền             NaN     NaN   \n",
              "2      Phường Minh Khai           Nhà ngõ, hẻm        Đã có sổ       4   \n",
              "3      Phường Thụy Khuê           Nhà ngõ, hẻm        Đã có sổ     NaN   \n",
              "4      Phường Kim Giang           Nhà ngõ, hẻm             NaN     NaN   \n",
              "...                 ...                    ...             ...     ...   \n",
              "82492   Phường Quan Hoa  Nhà mặt phố, mặt tiền             NaN     NaN   \n",
              "82493   Phường Quan Hoa  Nhà mặt phố, mặt tiền        Đã có sổ     NaN   \n",
              "82494   Phường Quan Hoa           Nhà ngõ, hẻm        Đã có sổ     NaN   \n",
              "82495   Phường Mai Dịch        Nhà phố liền kề             NaN     NaN   \n",
              "82496               NaN                    NaN             NaN     NaN   \n",
              "\n",
              "      Số phòng ngủ Diện tích      Dài Rộng           Giá/m2  \n",
              "0          5 phòng     46 m²      NaN  NaN   86,96 triệu/m²  \n",
              "1          3 phòng     37 m²      NaN  NaN  116,22 triệu/m²  \n",
              "2          4 phòng     40 m²     10 m  4 m      65 triệu/m²  \n",
              "3          6 phòng     51 m²  12.75 m  4 m     100 triệu/m²  \n",
              "4          4 phòng     36 m²      9 m  4 m   86,11 triệu/m²  \n",
              "...            ...       ...      ...  ...              ...  \n",
              "82492      3 phòng     50 m²      NaN  NaN     292 triệu/m²  \n",
              "82493      4 phòng     41 m²      NaN  NaN  341,46 triệu/m²  \n",
              "82494      4 phòng     60 m²      NaN  NaN  101,67 triệu/m²  \n",
              "82495      4 phòng     45 m²      NaN  NaN  102,22 triệu/m²  \n",
              "82496          NaN       NaN      NaN  NaN              NaN  \n",
              "\n",
              "[82497 rows x 13 columns]"
            ],
            "text/html": [
              "\n",
              "  <div id=\"df-197f3da8-d074-4d28-ab77-5a86a20ff496\">\n",
              "    <div class=\"colab-df-container\">\n",
              "      <div>\n",
              "<style scoped>\n",
              "    .dataframe tbody tr th:only-of-type {\n",
              "        vertical-align: middle;\n",
              "    }\n",
              "\n",
              "    .dataframe tbody tr th {\n",
              "        vertical-align: top;\n",
              "    }\n",
              "\n",
              "    .dataframe thead th {\n",
              "        text-align: right;\n",
              "    }\n",
              "</style>\n",
              "<table border=\"1\" class=\"dataframe\">\n",
              "  <thead>\n",
              "    <tr style=\"text-align: right;\">\n",
              "      <th></th>\n",
              "      <th>Unnamed: 0</th>\n",
              "      <th>Ngày</th>\n",
              "      <th>Địa chỉ</th>\n",
              "      <th>Quận</th>\n",
              "      <th>Huyện</th>\n",
              "      <th>Loại hình nhà ở</th>\n",
              "      <th>Giấy tờ pháp lý</th>\n",
              "      <th>Số tầng</th>\n",
              "      <th>Số phòng ngủ</th>\n",
              "      <th>Diện tích</th>\n",
              "      <th>Dài</th>\n",
              "      <th>Rộng</th>\n",
              "      <th>Giá/m2</th>\n",
              "    </tr>\n",
              "  </thead>\n",
              "  <tbody>\n",
              "    <tr>\n",
              "      <th>0</th>\n",
              "      <td>0.0</td>\n",
              "      <td>2020-08-05</td>\n",
              "      <td>Đường Hoàng Quốc Việt, Phường Nghĩa Đô, Quận C...</td>\n",
              "      <td>Quận Cầu Giấy</td>\n",
              "      <td>Phường Nghĩa Đô</td>\n",
              "      <td>Nhà ngõ, hẻm</td>\n",
              "      <td>Đã có sổ</td>\n",
              "      <td>4</td>\n",
              "      <td>5 phòng</td>\n",
              "      <td>46 m²</td>\n",
              "      <td>NaN</td>\n",
              "      <td>NaN</td>\n",
              "      <td>86,96 triệu/m²</td>\n",
              "    </tr>\n",
              "    <tr>\n",
              "      <th>1</th>\n",
              "      <td>1.0</td>\n",
              "      <td>2020-08-05</td>\n",
              "      <td>Đường Kim Giang, Phường Kim Giang, Quận Thanh ...</td>\n",
              "      <td>Quận Thanh Xuân</td>\n",
              "      <td>Phường Kim Giang</td>\n",
              "      <td>Nhà mặt phố, mặt tiền</td>\n",
              "      <td>NaN</td>\n",
              "      <td>NaN</td>\n",
              "      <td>3 phòng</td>\n",
              "      <td>37 m²</td>\n",
              "      <td>NaN</td>\n",
              "      <td>NaN</td>\n",
              "      <td>116,22 triệu/m²</td>\n",
              "    </tr>\n",
              "    <tr>\n",
              "      <th>2</th>\n",
              "      <td>2.0</td>\n",
              "      <td>2020-08-05</td>\n",
              "      <td>phố minh khai, Phường Minh Khai, Quận Hai Bà T...</td>\n",
              "      <td>Quận Hai Bà Trưng</td>\n",
              "      <td>Phường Minh Khai</td>\n",
              "      <td>Nhà ngõ, hẻm</td>\n",
              "      <td>Đã có sổ</td>\n",
              "      <td>4</td>\n",
              "      <td>4 phòng</td>\n",
              "      <td>40 m²</td>\n",
              "      <td>10 m</td>\n",
              "      <td>4 m</td>\n",
              "      <td>65 triệu/m²</td>\n",
              "    </tr>\n",
              "    <tr>\n",
              "      <th>3</th>\n",
              "      <td>3.0</td>\n",
              "      <td>2020-08-05</td>\n",
              "      <td>Đường Võng Thị, Phường Thụy Khuê, Quận Tây Hồ,...</td>\n",
              "      <td>Quận Tây Hồ</td>\n",
              "      <td>Phường Thụy Khuê</td>\n",
              "      <td>Nhà ngõ, hẻm</td>\n",
              "      <td>Đã có sổ</td>\n",
              "      <td>NaN</td>\n",
              "      <td>6 phòng</td>\n",
              "      <td>51 m²</td>\n",
              "      <td>12.75 m</td>\n",
              "      <td>4 m</td>\n",
              "      <td>100 triệu/m²</td>\n",
              "    </tr>\n",
              "    <tr>\n",
              "      <th>4</th>\n",
              "      <td>4.0</td>\n",
              "      <td>2020-08-05</td>\n",
              "      <td>Đường Kim Giang, Phường Kim Giang, Quận Thanh ...</td>\n",
              "      <td>Quận Thanh Xuân</td>\n",
              "      <td>Phường Kim Giang</td>\n",
              "      <td>Nhà ngõ, hẻm</td>\n",
              "      <td>NaN</td>\n",
              "      <td>NaN</td>\n",
              "      <td>4 phòng</td>\n",
              "      <td>36 m²</td>\n",
              "      <td>9 m</td>\n",
              "      <td>4 m</td>\n",
              "      <td>86,11 triệu/m²</td>\n",
              "    </tr>\n",
              "    <tr>\n",
              "      <th>...</th>\n",
              "      <td>...</td>\n",
              "      <td>...</td>\n",
              "      <td>...</td>\n",
              "      <td>...</td>\n",
              "      <td>...</td>\n",
              "      <td>...</td>\n",
              "      <td>...</td>\n",
              "      <td>...</td>\n",
              "      <td>...</td>\n",
              "      <td>...</td>\n",
              "      <td>...</td>\n",
              "      <td>...</td>\n",
              "      <td>...</td>\n",
              "    </tr>\n",
              "    <tr>\n",
              "      <th>82492</th>\n",
              "      <td>82492.0</td>\n",
              "      <td>2019-08-07</td>\n",
              "      <td>Đường Trần Quốc Hoàn, Phường Quan Hoa, Quận Cầ...</td>\n",
              "      <td>Quận Cầu Giấy</td>\n",
              "      <td>Phường Quan Hoa</td>\n",
              "      <td>Nhà mặt phố, mặt tiền</td>\n",
              "      <td>NaN</td>\n",
              "      <td>NaN</td>\n",
              "      <td>3 phòng</td>\n",
              "      <td>50 m²</td>\n",
              "      <td>NaN</td>\n",
              "      <td>NaN</td>\n",
              "      <td>292 triệu/m²</td>\n",
              "    </tr>\n",
              "    <tr>\n",
              "      <th>82493</th>\n",
              "      <td>82493.0</td>\n",
              "      <td>2019-08-07</td>\n",
              "      <td>Đường Nguyễn Khánh Toàn, Phường Quan Hoa, Quận...</td>\n",
              "      <td>Quận Cầu Giấy</td>\n",
              "      <td>Phường Quan Hoa</td>\n",
              "      <td>Nhà mặt phố, mặt tiền</td>\n",
              "      <td>Đã có sổ</td>\n",
              "      <td>NaN</td>\n",
              "      <td>4 phòng</td>\n",
              "      <td>41 m²</td>\n",
              "      <td>NaN</td>\n",
              "      <td>NaN</td>\n",
              "      <td>341,46 triệu/m²</td>\n",
              "    </tr>\n",
              "    <tr>\n",
              "      <th>82494</th>\n",
              "      <td>82494.0</td>\n",
              "      <td>2019-08-05</td>\n",
              "      <td>Đường Quan Hoa, Phường Quan Hoa, Quận Cầu Giấy...</td>\n",
              "      <td>Quận Cầu Giấy</td>\n",
              "      <td>Phường Quan Hoa</td>\n",
              "      <td>Nhà ngõ, hẻm</td>\n",
              "      <td>Đã có sổ</td>\n",
              "      <td>NaN</td>\n",
              "      <td>4 phòng</td>\n",
              "      <td>60 m²</td>\n",
              "      <td>NaN</td>\n",
              "      <td>NaN</td>\n",
              "      <td>101,67 triệu/m²</td>\n",
              "    </tr>\n",
              "    <tr>\n",
              "      <th>82495</th>\n",
              "      <td>82495.0</td>\n",
              "      <td>2019-08-05</td>\n",
              "      <td>Đường Hồ Tùng Mậu, Phường Mai Dịch, Quận Cầu G...</td>\n",
              "      <td>Quận Cầu Giấy</td>\n",
              "      <td>Phường Mai Dịch</td>\n",
              "      <td>Nhà phố liền kề</td>\n",
              "      <td>NaN</td>\n",
              "      <td>NaN</td>\n",
              "      <td>4 phòng</td>\n",
              "      <td>45 m²</td>\n",
              "      <td>NaN</td>\n",
              "      <td>NaN</td>\n",
              "      <td>102,22 triệu/m²</td>\n",
              "    </tr>\n",
              "    <tr>\n",
              "      <th>82496</th>\n",
              "      <td>NaN</td>\n",
              "      <td>NaN</td>\n",
              "      <td>NaN</td>\n",
              "      <td>NaN</td>\n",
              "      <td>NaN</td>\n",
              "      <td>NaN</td>\n",
              "      <td>NaN</td>\n",
              "      <td>NaN</td>\n",
              "      <td>NaN</td>\n",
              "      <td>NaN</td>\n",
              "      <td>NaN</td>\n",
              "      <td>NaN</td>\n",
              "      <td>NaN</td>\n",
              "    </tr>\n",
              "  </tbody>\n",
              "</table>\n",
              "<p>82497 rows × 13 columns</p>\n",
              "</div>\n",
              "      <button class=\"colab-df-convert\" onclick=\"convertToInteractive('df-197f3da8-d074-4d28-ab77-5a86a20ff496')\"\n",
              "              title=\"Convert this dataframe to an interactive table.\"\n",
              "              style=\"display:none;\">\n",
              "        \n",
              "  <svg xmlns=\"http://www.w3.org/2000/svg\" height=\"24px\"viewBox=\"0 0 24 24\"\n",
              "       width=\"24px\">\n",
              "    <path d=\"M0 0h24v24H0V0z\" fill=\"none\"/>\n",
              "    <path d=\"M18.56 5.44l.94 2.06.94-2.06 2.06-.94-2.06-.94-.94-2.06-.94 2.06-2.06.94zm-11 1L8.5 8.5l.94-2.06 2.06-.94-2.06-.94L8.5 2.5l-.94 2.06-2.06.94zm10 10l.94 2.06.94-2.06 2.06-.94-2.06-.94-.94-2.06-.94 2.06-2.06.94z\"/><path d=\"M17.41 7.96l-1.37-1.37c-.4-.4-.92-.59-1.43-.59-.52 0-1.04.2-1.43.59L10.3 9.45l-7.72 7.72c-.78.78-.78 2.05 0 2.83L4 21.41c.39.39.9.59 1.41.59.51 0 1.02-.2 1.41-.59l7.78-7.78 2.81-2.81c.8-.78.8-2.07 0-2.86zM5.41 20L4 18.59l7.72-7.72 1.47 1.35L5.41 20z\"/>\n",
              "  </svg>\n",
              "      </button>\n",
              "      \n",
              "  <style>\n",
              "    .colab-df-container {\n",
              "      display:flex;\n",
              "      flex-wrap:wrap;\n",
              "      gap: 12px;\n",
              "    }\n",
              "\n",
              "    .colab-df-convert {\n",
              "      background-color: #E8F0FE;\n",
              "      border: none;\n",
              "      border-radius: 50%;\n",
              "      cursor: pointer;\n",
              "      display: none;\n",
              "      fill: #1967D2;\n",
              "      height: 32px;\n",
              "      padding: 0 0 0 0;\n",
              "      width: 32px;\n",
              "    }\n",
              "\n",
              "    .colab-df-convert:hover {\n",
              "      background-color: #E2EBFA;\n",
              "      box-shadow: 0px 1px 2px rgba(60, 64, 67, 0.3), 0px 1px 3px 1px rgba(60, 64, 67, 0.15);\n",
              "      fill: #174EA6;\n",
              "    }\n",
              "\n",
              "    [theme=dark] .colab-df-convert {\n",
              "      background-color: #3B4455;\n",
              "      fill: #D2E3FC;\n",
              "    }\n",
              "\n",
              "    [theme=dark] .colab-df-convert:hover {\n",
              "      background-color: #434B5C;\n",
              "      box-shadow: 0px 1px 3px 1px rgba(0, 0, 0, 0.15);\n",
              "      filter: drop-shadow(0px 1px 2px rgba(0, 0, 0, 0.3));\n",
              "      fill: #FFFFFF;\n",
              "    }\n",
              "  </style>\n",
              "\n",
              "      <script>\n",
              "        const buttonEl =\n",
              "          document.querySelector('#df-197f3da8-d074-4d28-ab77-5a86a20ff496 button.colab-df-convert');\n",
              "        buttonEl.style.display =\n",
              "          google.colab.kernel.accessAllowed ? 'block' : 'none';\n",
              "\n",
              "        async function convertToInteractive(key) {\n",
              "          const element = document.querySelector('#df-197f3da8-d074-4d28-ab77-5a86a20ff496');\n",
              "          const dataTable =\n",
              "            await google.colab.kernel.invokeFunction('convertToInteractive',\n",
              "                                                     [key], {});\n",
              "          if (!dataTable) return;\n",
              "\n",
              "          const docLinkHtml = 'Like what you see? Visit the ' +\n",
              "            '<a target=\"_blank\" href=https://colab.research.google.com/notebooks/data_table.ipynb>data table notebook</a>'\n",
              "            + ' to learn more about interactive tables.';\n",
              "          element.innerHTML = '';\n",
              "          dataTable['output_type'] = 'display_data';\n",
              "          await google.colab.output.renderOutput(dataTable, element);\n",
              "          const docLink = document.createElement('div');\n",
              "          docLink.innerHTML = docLinkHtml;\n",
              "          element.appendChild(docLink);\n",
              "        }\n",
              "      </script>\n",
              "    </div>\n",
              "  </div>\n",
              "  "
            ]
          },
          "metadata": {},
          "execution_count": 2
        }
      ],
      "source": [
        "vn_house_df = pd.read_csv('VN_housing_dataset.csv')\n",
        "vn_house_df"
      ]
    },
    {
      "cell_type": "markdown",
      "metadata": {
        "id": "fRt-UXxPVDoS"
      },
      "source": [
        "### Có bao nhiêu dòng cột? Có dòng nào bị lặp không ?"
      ]
    },
    {
      "cell_type": "code",
      "execution_count": 3,
      "metadata": {
        "colab": {
          "base_uri": "https://localhost:8080/"
        },
        "id": "Wiml6J8dVDoT",
        "outputId": "9a6b4f51-22f0-41f3-986c-ef98d977b393"
      },
      "outputs": [
        {
          "output_type": "execute_result",
          "data": {
            "text/plain": [
              "(82497, 13)"
            ]
          },
          "metadata": {},
          "execution_count": 3
        }
      ],
      "source": [
        "vn_house_df.shape"
      ]
    },
    {
      "cell_type": "code",
      "execution_count": 4,
      "metadata": {
        "colab": {
          "base_uri": "https://localhost:8080/"
        },
        "id": "xysititBVDoU",
        "outputId": "21efde14-4a9a-45ee-b093-40d6c00031ee"
      },
      "outputs": [
        {
          "output_type": "execute_result",
          "data": {
            "text/plain": [
              "False"
            ]
          },
          "metadata": {},
          "execution_count": 4
        }
      ],
      "source": [
        "have_duplicated_rows = vn_house_df.duplicated().any()\n",
        "have_duplicated_rows"
      ]
    },
    {
      "cell_type": "markdown",
      "metadata": {
        "id": "F-0fWE9QVDoV"
      },
      "source": [
        "## Khám phá dữ liệu"
      ]
    },
    {
      "cell_type": "code",
      "execution_count": 5,
      "metadata": {
        "colab": {
          "base_uri": "https://localhost:8080/"
        },
        "id": "x3c8FbGoVDoW",
        "outputId": "ec0be3c3-4995-40d2-963f-75dc9aa32bac"
      },
      "outputs": [
        {
          "output_type": "stream",
          "name": "stdout",
          "text": [
            "<class 'pandas.core.frame.DataFrame'>\n",
            "RangeIndex: 82497 entries, 0 to 82496\n",
            "Data columns (total 13 columns):\n",
            " #   Column           Non-Null Count  Dtype  \n",
            "---  ------           --------------  -----  \n",
            " 0   Unnamed: 0       82496 non-null  float64\n",
            " 1   Ngày             82496 non-null  object \n",
            " 2   Địa chỉ          82449 non-null  object \n",
            " 3   Quận             82495 non-null  object \n",
            " 4   Huyện            82449 non-null  object \n",
            " 5   Loại hình nhà ở  82465 non-null  object \n",
            " 6   Giấy tờ pháp lý  53610 non-null  object \n",
            " 7   Số tầng          36399 non-null  object \n",
            " 8   Số phòng ngủ     82458 non-null  object \n",
            " 9   Diện tích        82495 non-null  object \n",
            " 10  Dài              19827 non-null  object \n",
            " 11  Rộng             35445 non-null  object \n",
            " 12  Giá/m2           82484 non-null  object \n",
            "dtypes: float64(1), object(12)\n",
            "memory usage: 8.2+ MB\n"
          ]
        }
      ],
      "source": [
        "vn_house_df.info()"
      ]
    },
    {
      "cell_type": "code",
      "execution_count": 6,
      "metadata": {
        "colab": {
          "base_uri": "https://localhost:8080/"
        },
        "id": "ro4mH-WyVDoX",
        "outputId": "f18c5c3f-a08f-4f9f-f660-56e191448515"
      },
      "outputs": [
        {
          "output_type": "execute_result",
          "data": {
            "text/plain": [
              "Unnamed: 0         82496\n",
              "Ngày                 174\n",
              "Địa chỉ            13957\n",
              "Quận                  29\n",
              "Huyện                309\n",
              "Loại hình nhà ở        4\n",
              "Giấy tờ pháp lý        3\n",
              "Số tầng               29\n",
              "Số phòng ngủ          11\n",
              "Diện tích            504\n",
              "Dài                  487\n",
              "Rộng                 410\n",
              "Giá/m2              8345\n",
              "dtype: int64"
            ]
          },
          "metadata": {},
          "execution_count": 6
        }
      ],
      "source": [
        "vn_house_df.nunique()"
      ]
    },
    {
      "cell_type": "markdown",
      "metadata": {
        "id": "7O4NoS7QVDoY"
      },
      "source": [
        "Như vậy, ta có thể nhận định được các cột categorical và numerical một cách dễ dàng."
      ]
    },
    {
      "cell_type": "code",
      "execution_count": 7,
      "metadata": {
        "id": "Qq_tvXoWVDoY"
      },
      "outputs": [],
      "source": [
        "categorical_cols = ['Loại hình nhà ở','Giấy tờ pháp lý']\n",
        "numerical_cols = ['Số tầng','Số phòng ngủ','Diện tích','Dài','Rộng','Giá/m2']"
      ]
    },
    {
      "cell_type": "markdown",
      "metadata": {
        "id": "sH6vVq1rVDoZ"
      },
      "source": [
        "Lưu ý:\n",
        "- Cột Ngày ta sẽ không xét bởi vì không có giá trị thực tiễn.\n",
        "- Cột Quận, Huyện cũng không xét bởi vì thực chất Quận với Huyện đã nằm ở trong cột Địa Chỉ.\n",
        "- Cột Dài, Rộng không xét bởi vì cột Diện tích = Dài x Rộng."
      ]
    },
    {
      "cell_type": "markdown",
      "metadata": {
        "id": "0Z4B9ECJVDoZ"
      },
      "source": [
        "## Tiền xử lý dữ liệu"
      ]
    },
    {
      "cell_type": "markdown",
      "metadata": {
        "id": "AsTYlxj2VDoZ"
      },
      "source": [
        "Nhìn vào dữ liệu, ta cần lưu ý vài thứ như sau:\n",
        "- Ta đang xét tập dữ liệu về nhà ở có các biến về thông tin ngôi nhà mà những nhà này không được gắn id hoặc bất cứ biến nào phù hợp để phân biệt ngoại trừ địa chỉ. Vì thế, cột Ngày không có giá trị trực quan cũng như phân tích. Ta sẽ bỏ cột này.\n",
        "- Nếu nhìn sâu một chút, cột Quận Huyện đã nằm bên trong cột địa chỉ bởi vì địa chỉ được ghi một cách đầy đủ theo quy định ở nước ta nên ta sẽ bỏ luôn hai cột Quận, Huyện.\n",
        "- Cột Diện tích thực chất là tích của hai cột Dài và Rộng. Như vậy, ta cân nhắc bỏ hai cột này."
      ]
    },
    {
      "cell_type": "code",
      "execution_count": 8,
      "metadata": {
        "colab": {
          "base_uri": "https://localhost:8080/",
          "height": 424
        },
        "id": "PiqfHeyTVDoa",
        "outputId": "39d5a97c-c617-47e5-af6d-ee97a6a23961"
      },
      "outputs": [
        {
          "output_type": "execute_result",
          "data": {
            "text/plain": [
              "                                                 Địa chỉ  \\\n",
              "0      Đường Hoàng Quốc Việt, Phường Nghĩa Đô, Quận C...   \n",
              "1      Đường Kim Giang, Phường Kim Giang, Quận Thanh ...   \n",
              "2      phố minh khai, Phường Minh Khai, Quận Hai Bà T...   \n",
              "3      Đường Võng Thị, Phường Thụy Khuê, Quận Tây Hồ,...   \n",
              "4      Đường Kim Giang, Phường Kim Giang, Quận Thanh ...   \n",
              "...                                                  ...   \n",
              "82492  Đường Trần Quốc Hoàn, Phường Quan Hoa, Quận Cầ...   \n",
              "82493  Đường Nguyễn Khánh Toàn, Phường Quan Hoa, Quận...   \n",
              "82494  Đường Quan Hoa, Phường Quan Hoa, Quận Cầu Giấy...   \n",
              "82495  Đường Hồ Tùng Mậu, Phường Mai Dịch, Quận Cầu G...   \n",
              "82496                                                NaN   \n",
              "\n",
              "             Loại hình nhà ở Giấy tờ pháp lý Số tầng Số phòng ngủ Diện tích  \\\n",
              "0               Nhà ngõ, hẻm        Đã có sổ       4      5 phòng     46 m²   \n",
              "1      Nhà mặt phố, mặt tiền             NaN     NaN      3 phòng     37 m²   \n",
              "2               Nhà ngõ, hẻm        Đã có sổ       4      4 phòng     40 m²   \n",
              "3               Nhà ngõ, hẻm        Đã có sổ     NaN      6 phòng     51 m²   \n",
              "4               Nhà ngõ, hẻm             NaN     NaN      4 phòng     36 m²   \n",
              "...                      ...             ...     ...          ...       ...   \n",
              "82492  Nhà mặt phố, mặt tiền             NaN     NaN      3 phòng     50 m²   \n",
              "82493  Nhà mặt phố, mặt tiền        Đã có sổ     NaN      4 phòng     41 m²   \n",
              "82494           Nhà ngõ, hẻm        Đã có sổ     NaN      4 phòng     60 m²   \n",
              "82495        Nhà phố liền kề             NaN     NaN      4 phòng     45 m²   \n",
              "82496                    NaN             NaN     NaN          NaN       NaN   \n",
              "\n",
              "                Giá/m2  \n",
              "0       86,96 triệu/m²  \n",
              "1      116,22 triệu/m²  \n",
              "2          65 triệu/m²  \n",
              "3         100 triệu/m²  \n",
              "4       86,11 triệu/m²  \n",
              "...                ...  \n",
              "82492     292 triệu/m²  \n",
              "82493  341,46 triệu/m²  \n",
              "82494  101,67 triệu/m²  \n",
              "82495  102,22 triệu/m²  \n",
              "82496              NaN  \n",
              "\n",
              "[82497 rows x 7 columns]"
            ],
            "text/html": [
              "\n",
              "  <div id=\"df-6c4f4d31-936d-4915-99f3-19898d5387b4\">\n",
              "    <div class=\"colab-df-container\">\n",
              "      <div>\n",
              "<style scoped>\n",
              "    .dataframe tbody tr th:only-of-type {\n",
              "        vertical-align: middle;\n",
              "    }\n",
              "\n",
              "    .dataframe tbody tr th {\n",
              "        vertical-align: top;\n",
              "    }\n",
              "\n",
              "    .dataframe thead th {\n",
              "        text-align: right;\n",
              "    }\n",
              "</style>\n",
              "<table border=\"1\" class=\"dataframe\">\n",
              "  <thead>\n",
              "    <tr style=\"text-align: right;\">\n",
              "      <th></th>\n",
              "      <th>Địa chỉ</th>\n",
              "      <th>Loại hình nhà ở</th>\n",
              "      <th>Giấy tờ pháp lý</th>\n",
              "      <th>Số tầng</th>\n",
              "      <th>Số phòng ngủ</th>\n",
              "      <th>Diện tích</th>\n",
              "      <th>Giá/m2</th>\n",
              "    </tr>\n",
              "  </thead>\n",
              "  <tbody>\n",
              "    <tr>\n",
              "      <th>0</th>\n",
              "      <td>Đường Hoàng Quốc Việt, Phường Nghĩa Đô, Quận C...</td>\n",
              "      <td>Nhà ngõ, hẻm</td>\n",
              "      <td>Đã có sổ</td>\n",
              "      <td>4</td>\n",
              "      <td>5 phòng</td>\n",
              "      <td>46 m²</td>\n",
              "      <td>86,96 triệu/m²</td>\n",
              "    </tr>\n",
              "    <tr>\n",
              "      <th>1</th>\n",
              "      <td>Đường Kim Giang, Phường Kim Giang, Quận Thanh ...</td>\n",
              "      <td>Nhà mặt phố, mặt tiền</td>\n",
              "      <td>NaN</td>\n",
              "      <td>NaN</td>\n",
              "      <td>3 phòng</td>\n",
              "      <td>37 m²</td>\n",
              "      <td>116,22 triệu/m²</td>\n",
              "    </tr>\n",
              "    <tr>\n",
              "      <th>2</th>\n",
              "      <td>phố minh khai, Phường Minh Khai, Quận Hai Bà T...</td>\n",
              "      <td>Nhà ngõ, hẻm</td>\n",
              "      <td>Đã có sổ</td>\n",
              "      <td>4</td>\n",
              "      <td>4 phòng</td>\n",
              "      <td>40 m²</td>\n",
              "      <td>65 triệu/m²</td>\n",
              "    </tr>\n",
              "    <tr>\n",
              "      <th>3</th>\n",
              "      <td>Đường Võng Thị, Phường Thụy Khuê, Quận Tây Hồ,...</td>\n",
              "      <td>Nhà ngõ, hẻm</td>\n",
              "      <td>Đã có sổ</td>\n",
              "      <td>NaN</td>\n",
              "      <td>6 phòng</td>\n",
              "      <td>51 m²</td>\n",
              "      <td>100 triệu/m²</td>\n",
              "    </tr>\n",
              "    <tr>\n",
              "      <th>4</th>\n",
              "      <td>Đường Kim Giang, Phường Kim Giang, Quận Thanh ...</td>\n",
              "      <td>Nhà ngõ, hẻm</td>\n",
              "      <td>NaN</td>\n",
              "      <td>NaN</td>\n",
              "      <td>4 phòng</td>\n",
              "      <td>36 m²</td>\n",
              "      <td>86,11 triệu/m²</td>\n",
              "    </tr>\n",
              "    <tr>\n",
              "      <th>...</th>\n",
              "      <td>...</td>\n",
              "      <td>...</td>\n",
              "      <td>...</td>\n",
              "      <td>...</td>\n",
              "      <td>...</td>\n",
              "      <td>...</td>\n",
              "      <td>...</td>\n",
              "    </tr>\n",
              "    <tr>\n",
              "      <th>82492</th>\n",
              "      <td>Đường Trần Quốc Hoàn, Phường Quan Hoa, Quận Cầ...</td>\n",
              "      <td>Nhà mặt phố, mặt tiền</td>\n",
              "      <td>NaN</td>\n",
              "      <td>NaN</td>\n",
              "      <td>3 phòng</td>\n",
              "      <td>50 m²</td>\n",
              "      <td>292 triệu/m²</td>\n",
              "    </tr>\n",
              "    <tr>\n",
              "      <th>82493</th>\n",
              "      <td>Đường Nguyễn Khánh Toàn, Phường Quan Hoa, Quận...</td>\n",
              "      <td>Nhà mặt phố, mặt tiền</td>\n",
              "      <td>Đã có sổ</td>\n",
              "      <td>NaN</td>\n",
              "      <td>4 phòng</td>\n",
              "      <td>41 m²</td>\n",
              "      <td>341,46 triệu/m²</td>\n",
              "    </tr>\n",
              "    <tr>\n",
              "      <th>82494</th>\n",
              "      <td>Đường Quan Hoa, Phường Quan Hoa, Quận Cầu Giấy...</td>\n",
              "      <td>Nhà ngõ, hẻm</td>\n",
              "      <td>Đã có sổ</td>\n",
              "      <td>NaN</td>\n",
              "      <td>4 phòng</td>\n",
              "      <td>60 m²</td>\n",
              "      <td>101,67 triệu/m²</td>\n",
              "    </tr>\n",
              "    <tr>\n",
              "      <th>82495</th>\n",
              "      <td>Đường Hồ Tùng Mậu, Phường Mai Dịch, Quận Cầu G...</td>\n",
              "      <td>Nhà phố liền kề</td>\n",
              "      <td>NaN</td>\n",
              "      <td>NaN</td>\n",
              "      <td>4 phòng</td>\n",
              "      <td>45 m²</td>\n",
              "      <td>102,22 triệu/m²</td>\n",
              "    </tr>\n",
              "    <tr>\n",
              "      <th>82496</th>\n",
              "      <td>NaN</td>\n",
              "      <td>NaN</td>\n",
              "      <td>NaN</td>\n",
              "      <td>NaN</td>\n",
              "      <td>NaN</td>\n",
              "      <td>NaN</td>\n",
              "      <td>NaN</td>\n",
              "    </tr>\n",
              "  </tbody>\n",
              "</table>\n",
              "<p>82497 rows × 7 columns</p>\n",
              "</div>\n",
              "      <button class=\"colab-df-convert\" onclick=\"convertToInteractive('df-6c4f4d31-936d-4915-99f3-19898d5387b4')\"\n",
              "              title=\"Convert this dataframe to an interactive table.\"\n",
              "              style=\"display:none;\">\n",
              "        \n",
              "  <svg xmlns=\"http://www.w3.org/2000/svg\" height=\"24px\"viewBox=\"0 0 24 24\"\n",
              "       width=\"24px\">\n",
              "    <path d=\"M0 0h24v24H0V0z\" fill=\"none\"/>\n",
              "    <path d=\"M18.56 5.44l.94 2.06.94-2.06 2.06-.94-2.06-.94-.94-2.06-.94 2.06-2.06.94zm-11 1L8.5 8.5l.94-2.06 2.06-.94-2.06-.94L8.5 2.5l-.94 2.06-2.06.94zm10 10l.94 2.06.94-2.06 2.06-.94-2.06-.94-.94-2.06-.94 2.06-2.06.94z\"/><path d=\"M17.41 7.96l-1.37-1.37c-.4-.4-.92-.59-1.43-.59-.52 0-1.04.2-1.43.59L10.3 9.45l-7.72 7.72c-.78.78-.78 2.05 0 2.83L4 21.41c.39.39.9.59 1.41.59.51 0 1.02-.2 1.41-.59l7.78-7.78 2.81-2.81c.8-.78.8-2.07 0-2.86zM5.41 20L4 18.59l7.72-7.72 1.47 1.35L5.41 20z\"/>\n",
              "  </svg>\n",
              "      </button>\n",
              "      \n",
              "  <style>\n",
              "    .colab-df-container {\n",
              "      display:flex;\n",
              "      flex-wrap:wrap;\n",
              "      gap: 12px;\n",
              "    }\n",
              "\n",
              "    .colab-df-convert {\n",
              "      background-color: #E8F0FE;\n",
              "      border: none;\n",
              "      border-radius: 50%;\n",
              "      cursor: pointer;\n",
              "      display: none;\n",
              "      fill: #1967D2;\n",
              "      height: 32px;\n",
              "      padding: 0 0 0 0;\n",
              "      width: 32px;\n",
              "    }\n",
              "\n",
              "    .colab-df-convert:hover {\n",
              "      background-color: #E2EBFA;\n",
              "      box-shadow: 0px 1px 2px rgba(60, 64, 67, 0.3), 0px 1px 3px 1px rgba(60, 64, 67, 0.15);\n",
              "      fill: #174EA6;\n",
              "    }\n",
              "\n",
              "    [theme=dark] .colab-df-convert {\n",
              "      background-color: #3B4455;\n",
              "      fill: #D2E3FC;\n",
              "    }\n",
              "\n",
              "    [theme=dark] .colab-df-convert:hover {\n",
              "      background-color: #434B5C;\n",
              "      box-shadow: 0px 1px 3px 1px rgba(0, 0, 0, 0.15);\n",
              "      filter: drop-shadow(0px 1px 2px rgba(0, 0, 0, 0.3));\n",
              "      fill: #FFFFFF;\n",
              "    }\n",
              "  </style>\n",
              "\n",
              "      <script>\n",
              "        const buttonEl =\n",
              "          document.querySelector('#df-6c4f4d31-936d-4915-99f3-19898d5387b4 button.colab-df-convert');\n",
              "        buttonEl.style.display =\n",
              "          google.colab.kernel.accessAllowed ? 'block' : 'none';\n",
              "\n",
              "        async function convertToInteractive(key) {\n",
              "          const element = document.querySelector('#df-6c4f4d31-936d-4915-99f3-19898d5387b4');\n",
              "          const dataTable =\n",
              "            await google.colab.kernel.invokeFunction('convertToInteractive',\n",
              "                                                     [key], {});\n",
              "          if (!dataTable) return;\n",
              "\n",
              "          const docLinkHtml = 'Like what you see? Visit the ' +\n",
              "            '<a target=\"_blank\" href=https://colab.research.google.com/notebooks/data_table.ipynb>data table notebook</a>'\n",
              "            + ' to learn more about interactive tables.';\n",
              "          element.innerHTML = '';\n",
              "          dataTable['output_type'] = 'display_data';\n",
              "          await google.colab.output.renderOutput(dataTable, element);\n",
              "          const docLink = document.createElement('div');\n",
              "          docLink.innerHTML = docLinkHtml;\n",
              "          element.appendChild(docLink);\n",
              "        }\n",
              "      </script>\n",
              "    </div>\n",
              "  </div>\n",
              "  "
            ]
          },
          "metadata": {},
          "execution_count": 8
        }
      ],
      "source": [
        "removed_cols = ['Unnamed: 0','Ngày','Quận','Huyện','Dài','Rộng']\n",
        "vn_house_df.drop(columns=removed_cols,inplace=True)\n",
        "vn_house_df"
      ]
    },
    {
      "cell_type": "markdown",
      "metadata": {
        "id": "08QFtNWcVDoa"
      },
      "source": [
        "Ta sẽ cập nhật lại numerical_cols"
      ]
    },
    {
      "cell_type": "code",
      "execution_count": 9,
      "metadata": {
        "id": "esfhOPiMVDob"
      },
      "outputs": [],
      "source": [
        "numerical_cols = ['Số tầng','Số phòng ngủ','Diện tích','Giá/m2']"
      ]
    },
    {
      "cell_type": "markdown",
      "metadata": {
        "id": "YLHSAlWGVDob"
      },
      "source": [
        "Tiếp theo, ta cần đổi các dạng dữ liệu ở các cột numerical sang số thay vì object. Ví dụ, cột \"Số phòng ngủ\" dư chữ phòng, ta sẽ muốn giữ lại số thôi. Tương tự với \"Diện tích\" và \"Giá/m2\" loại bỏ các đơn vị đo không cần thiết."
      ]
    },
    {
      "cell_type": "markdown",
      "metadata": {
        "id": "nZ8MZpe3VDob"
      },
      "source": [
        "Tuy nhiên, ta có các giá trị như đ/m2, tỷ/m2, ta sẽ bỏ qua các giá trị này bởi vì phần lớn dữ liệu tập trung ở triệu/m2.\n",
        "\n",
        "Ta vẫn có thể chuyển đổi giá trị tuy nhiên có thể khiến dữ liệu xuất hiện các outlier bởi vì tỷ/m2 quá lớn trong khi đ/m2 quá nhỏ."
      ]
    },
    {
      "cell_type": "code",
      "execution_count": 10,
      "metadata": {
        "colab": {
          "base_uri": "https://localhost:8080/",
          "height": 424
        },
        "id": "xHuNOf2yVDob",
        "outputId": "057213b5-f2cf-4ca1-cefb-09ad8590471e"
      },
      "outputs": [
        {
          "output_type": "execute_result",
          "data": {
            "text/plain": [
              "                                                 Địa chỉ  \\\n",
              "0      Đường Hoàng Quốc Việt, Phường Nghĩa Đô, Quận C...   \n",
              "1      Đường Kim Giang, Phường Kim Giang, Quận Thanh ...   \n",
              "2      phố minh khai, Phường Minh Khai, Quận Hai Bà T...   \n",
              "3      Đường Võng Thị, Phường Thụy Khuê, Quận Tây Hồ,...   \n",
              "4      Đường Kim Giang, Phường Kim Giang, Quận Thanh ...   \n",
              "...                                                  ...   \n",
              "82491  Đường Hồ Tùng Mậu, Phường Phúc Diễn, Quận Bắc ...   \n",
              "82492  Đường Trần Quốc Hoàn, Phường Quan Hoa, Quận Cầ...   \n",
              "82493  Đường Nguyễn Khánh Toàn, Phường Quan Hoa, Quận...   \n",
              "82494  Đường Quan Hoa, Phường Quan Hoa, Quận Cầu Giấy...   \n",
              "82495  Đường Hồ Tùng Mậu, Phường Mai Dịch, Quận Cầu G...   \n",
              "\n",
              "             Loại hình nhà ở Giấy tờ pháp lý Số tầng Số phòng ngủ Diện tích  \\\n",
              "0               Nhà ngõ, hẻm        Đã có sổ       4      5 phòng     46 m²   \n",
              "1      Nhà mặt phố, mặt tiền             NaN     NaN      3 phòng     37 m²   \n",
              "2               Nhà ngõ, hẻm        Đã có sổ       4      4 phòng     40 m²   \n",
              "3               Nhà ngõ, hẻm        Đã có sổ     NaN      6 phòng     51 m²   \n",
              "4               Nhà ngõ, hẻm             NaN     NaN      4 phòng     36 m²   \n",
              "...                      ...             ...     ...          ...       ...   \n",
              "82491        Nhà phố liền kề             NaN     NaN      3 phòng     38 m²   \n",
              "82492  Nhà mặt phố, mặt tiền             NaN     NaN      3 phòng     50 m²   \n",
              "82493  Nhà mặt phố, mặt tiền        Đã có sổ     NaN      4 phòng     41 m²   \n",
              "82494           Nhà ngõ, hẻm        Đã có sổ     NaN      4 phòng     60 m²   \n",
              "82495        Nhà phố liền kề             NaN     NaN      4 phòng     45 m²   \n",
              "\n",
              "                Giá/m2  \n",
              "0       86,96 triệu/m²  \n",
              "1      116,22 triệu/m²  \n",
              "2          65 triệu/m²  \n",
              "3         100 triệu/m²  \n",
              "4       86,11 triệu/m²  \n",
              "...                ...  \n",
              "82491   81,58 triệu/m²  \n",
              "82492     292 triệu/m²  \n",
              "82493  341,46 triệu/m²  \n",
              "82494  101,67 triệu/m²  \n",
              "82495  102,22 triệu/m²  \n",
              "\n",
              "[81626 rows x 7 columns]"
            ],
            "text/html": [
              "\n",
              "  <div id=\"df-20462420-0301-45be-a436-42d3f422d01f\">\n",
              "    <div class=\"colab-df-container\">\n",
              "      <div>\n",
              "<style scoped>\n",
              "    .dataframe tbody tr th:only-of-type {\n",
              "        vertical-align: middle;\n",
              "    }\n",
              "\n",
              "    .dataframe tbody tr th {\n",
              "        vertical-align: top;\n",
              "    }\n",
              "\n",
              "    .dataframe thead th {\n",
              "        text-align: right;\n",
              "    }\n",
              "</style>\n",
              "<table border=\"1\" class=\"dataframe\">\n",
              "  <thead>\n",
              "    <tr style=\"text-align: right;\">\n",
              "      <th></th>\n",
              "      <th>Địa chỉ</th>\n",
              "      <th>Loại hình nhà ở</th>\n",
              "      <th>Giấy tờ pháp lý</th>\n",
              "      <th>Số tầng</th>\n",
              "      <th>Số phòng ngủ</th>\n",
              "      <th>Diện tích</th>\n",
              "      <th>Giá/m2</th>\n",
              "    </tr>\n",
              "  </thead>\n",
              "  <tbody>\n",
              "    <tr>\n",
              "      <th>0</th>\n",
              "      <td>Đường Hoàng Quốc Việt, Phường Nghĩa Đô, Quận C...</td>\n",
              "      <td>Nhà ngõ, hẻm</td>\n",
              "      <td>Đã có sổ</td>\n",
              "      <td>4</td>\n",
              "      <td>5 phòng</td>\n",
              "      <td>46 m²</td>\n",
              "      <td>86,96 triệu/m²</td>\n",
              "    </tr>\n",
              "    <tr>\n",
              "      <th>1</th>\n",
              "      <td>Đường Kim Giang, Phường Kim Giang, Quận Thanh ...</td>\n",
              "      <td>Nhà mặt phố, mặt tiền</td>\n",
              "      <td>NaN</td>\n",
              "      <td>NaN</td>\n",
              "      <td>3 phòng</td>\n",
              "      <td>37 m²</td>\n",
              "      <td>116,22 triệu/m²</td>\n",
              "    </tr>\n",
              "    <tr>\n",
              "      <th>2</th>\n",
              "      <td>phố minh khai, Phường Minh Khai, Quận Hai Bà T...</td>\n",
              "      <td>Nhà ngõ, hẻm</td>\n",
              "      <td>Đã có sổ</td>\n",
              "      <td>4</td>\n",
              "      <td>4 phòng</td>\n",
              "      <td>40 m²</td>\n",
              "      <td>65 triệu/m²</td>\n",
              "    </tr>\n",
              "    <tr>\n",
              "      <th>3</th>\n",
              "      <td>Đường Võng Thị, Phường Thụy Khuê, Quận Tây Hồ,...</td>\n",
              "      <td>Nhà ngõ, hẻm</td>\n",
              "      <td>Đã có sổ</td>\n",
              "      <td>NaN</td>\n",
              "      <td>6 phòng</td>\n",
              "      <td>51 m²</td>\n",
              "      <td>100 triệu/m²</td>\n",
              "    </tr>\n",
              "    <tr>\n",
              "      <th>4</th>\n",
              "      <td>Đường Kim Giang, Phường Kim Giang, Quận Thanh ...</td>\n",
              "      <td>Nhà ngõ, hẻm</td>\n",
              "      <td>NaN</td>\n",
              "      <td>NaN</td>\n",
              "      <td>4 phòng</td>\n",
              "      <td>36 m²</td>\n",
              "      <td>86,11 triệu/m²</td>\n",
              "    </tr>\n",
              "    <tr>\n",
              "      <th>...</th>\n",
              "      <td>...</td>\n",
              "      <td>...</td>\n",
              "      <td>...</td>\n",
              "      <td>...</td>\n",
              "      <td>...</td>\n",
              "      <td>...</td>\n",
              "      <td>...</td>\n",
              "    </tr>\n",
              "    <tr>\n",
              "      <th>82491</th>\n",
              "      <td>Đường Hồ Tùng Mậu, Phường Phúc Diễn, Quận Bắc ...</td>\n",
              "      <td>Nhà phố liền kề</td>\n",
              "      <td>NaN</td>\n",
              "      <td>NaN</td>\n",
              "      <td>3 phòng</td>\n",
              "      <td>38 m²</td>\n",
              "      <td>81,58 triệu/m²</td>\n",
              "    </tr>\n",
              "    <tr>\n",
              "      <th>82492</th>\n",
              "      <td>Đường Trần Quốc Hoàn, Phường Quan Hoa, Quận Cầ...</td>\n",
              "      <td>Nhà mặt phố, mặt tiền</td>\n",
              "      <td>NaN</td>\n",
              "      <td>NaN</td>\n",
              "      <td>3 phòng</td>\n",
              "      <td>50 m²</td>\n",
              "      <td>292 triệu/m²</td>\n",
              "    </tr>\n",
              "    <tr>\n",
              "      <th>82493</th>\n",
              "      <td>Đường Nguyễn Khánh Toàn, Phường Quan Hoa, Quận...</td>\n",
              "      <td>Nhà mặt phố, mặt tiền</td>\n",
              "      <td>Đã có sổ</td>\n",
              "      <td>NaN</td>\n",
              "      <td>4 phòng</td>\n",
              "      <td>41 m²</td>\n",
              "      <td>341,46 triệu/m²</td>\n",
              "    </tr>\n",
              "    <tr>\n",
              "      <th>82494</th>\n",
              "      <td>Đường Quan Hoa, Phường Quan Hoa, Quận Cầu Giấy...</td>\n",
              "      <td>Nhà ngõ, hẻm</td>\n",
              "      <td>Đã có sổ</td>\n",
              "      <td>NaN</td>\n",
              "      <td>4 phòng</td>\n",
              "      <td>60 m²</td>\n",
              "      <td>101,67 triệu/m²</td>\n",
              "    </tr>\n",
              "    <tr>\n",
              "      <th>82495</th>\n",
              "      <td>Đường Hồ Tùng Mậu, Phường Mai Dịch, Quận Cầu G...</td>\n",
              "      <td>Nhà phố liền kề</td>\n",
              "      <td>NaN</td>\n",
              "      <td>NaN</td>\n",
              "      <td>4 phòng</td>\n",
              "      <td>45 m²</td>\n",
              "      <td>102,22 triệu/m²</td>\n",
              "    </tr>\n",
              "  </tbody>\n",
              "</table>\n",
              "<p>81626 rows × 7 columns</p>\n",
              "</div>\n",
              "      <button class=\"colab-df-convert\" onclick=\"convertToInteractive('df-20462420-0301-45be-a436-42d3f422d01f')\"\n",
              "              title=\"Convert this dataframe to an interactive table.\"\n",
              "              style=\"display:none;\">\n",
              "        \n",
              "  <svg xmlns=\"http://www.w3.org/2000/svg\" height=\"24px\"viewBox=\"0 0 24 24\"\n",
              "       width=\"24px\">\n",
              "    <path d=\"M0 0h24v24H0V0z\" fill=\"none\"/>\n",
              "    <path d=\"M18.56 5.44l.94 2.06.94-2.06 2.06-.94-2.06-.94-.94-2.06-.94 2.06-2.06.94zm-11 1L8.5 8.5l.94-2.06 2.06-.94-2.06-.94L8.5 2.5l-.94 2.06-2.06.94zm10 10l.94 2.06.94-2.06 2.06-.94-2.06-.94-.94-2.06-.94 2.06-2.06.94z\"/><path d=\"M17.41 7.96l-1.37-1.37c-.4-.4-.92-.59-1.43-.59-.52 0-1.04.2-1.43.59L10.3 9.45l-7.72 7.72c-.78.78-.78 2.05 0 2.83L4 21.41c.39.39.9.59 1.41.59.51 0 1.02-.2 1.41-.59l7.78-7.78 2.81-2.81c.8-.78.8-2.07 0-2.86zM5.41 20L4 18.59l7.72-7.72 1.47 1.35L5.41 20z\"/>\n",
              "  </svg>\n",
              "      </button>\n",
              "      \n",
              "  <style>\n",
              "    .colab-df-container {\n",
              "      display:flex;\n",
              "      flex-wrap:wrap;\n",
              "      gap: 12px;\n",
              "    }\n",
              "\n",
              "    .colab-df-convert {\n",
              "      background-color: #E8F0FE;\n",
              "      border: none;\n",
              "      border-radius: 50%;\n",
              "      cursor: pointer;\n",
              "      display: none;\n",
              "      fill: #1967D2;\n",
              "      height: 32px;\n",
              "      padding: 0 0 0 0;\n",
              "      width: 32px;\n",
              "    }\n",
              "\n",
              "    .colab-df-convert:hover {\n",
              "      background-color: #E2EBFA;\n",
              "      box-shadow: 0px 1px 2px rgba(60, 64, 67, 0.3), 0px 1px 3px 1px rgba(60, 64, 67, 0.15);\n",
              "      fill: #174EA6;\n",
              "    }\n",
              "\n",
              "    [theme=dark] .colab-df-convert {\n",
              "      background-color: #3B4455;\n",
              "      fill: #D2E3FC;\n",
              "    }\n",
              "\n",
              "    [theme=dark] .colab-df-convert:hover {\n",
              "      background-color: #434B5C;\n",
              "      box-shadow: 0px 1px 3px 1px rgba(0, 0, 0, 0.15);\n",
              "      filter: drop-shadow(0px 1px 2px rgba(0, 0, 0, 0.3));\n",
              "      fill: #FFFFFF;\n",
              "    }\n",
              "  </style>\n",
              "\n",
              "      <script>\n",
              "        const buttonEl =\n",
              "          document.querySelector('#df-20462420-0301-45be-a436-42d3f422d01f button.colab-df-convert');\n",
              "        buttonEl.style.display =\n",
              "          google.colab.kernel.accessAllowed ? 'block' : 'none';\n",
              "\n",
              "        async function convertToInteractive(key) {\n",
              "          const element = document.querySelector('#df-20462420-0301-45be-a436-42d3f422d01f');\n",
              "          const dataTable =\n",
              "            await google.colab.kernel.invokeFunction('convertToInteractive',\n",
              "                                                     [key], {});\n",
              "          if (!dataTable) return;\n",
              "\n",
              "          const docLinkHtml = 'Like what you see? Visit the ' +\n",
              "            '<a target=\"_blank\" href=https://colab.research.google.com/notebooks/data_table.ipynb>data table notebook</a>'\n",
              "            + ' to learn more about interactive tables.';\n",
              "          element.innerHTML = '';\n",
              "          dataTable['output_type'] = 'display_data';\n",
              "          await google.colab.output.renderOutput(dataTable, element);\n",
              "          const docLink = document.createElement('div');\n",
              "          docLink.innerHTML = docLinkHtml;\n",
              "          element.appendChild(docLink);\n",
              "        }\n",
              "      </script>\n",
              "    </div>\n",
              "  </div>\n",
              "  "
            ]
          },
          "metadata": {},
          "execution_count": 10
        }
      ],
      "source": [
        "vn_house_df = vn_house_df[vn_house_df['Giá/m2'].str.contains('triệu/m²') == True]\n",
        "vn_house_df"
      ]
    },
    {
      "cell_type": "code",
      "execution_count": 11,
      "metadata": {
        "id": "VlDExwuAVDoc"
      },
      "outputs": [],
      "source": [
        "def remove(x):\n",
        "    floor = \"Nhiều hơn 10\"\n",
        "    room = \"phòng\"\n",
        "    other_room = \"nhiều hơn 10 phòng\"\n",
        "    meter = \"m²\"\n",
        "    milion_meter = \" triệu/m²\"\n",
        "    if floor in x:\n",
        "        x = int(x.replace(floor,'11'))\n",
        "    elif other_room in x:\n",
        "        x = 11\n",
        "    elif room in x:\n",
        "        x = int(x.replace(room,\"\"))\n",
        "    elif milion_meter in x:\n",
        "        x = x.replace(\",\",\"\")\n",
        "        x = float((x.replace(milion_meter,\"\")))\n",
        "    elif meter in x:\n",
        "        x = float(x.replace(meter,\"\"))\n",
        "    return x"
      ]
    },
    {
      "cell_type": "code",
      "execution_count": 12,
      "metadata": {
        "colab": {
          "base_uri": "https://localhost:8080/"
        },
        "id": "9-wZ7mIFVDoc",
        "outputId": "5229410c-f0d2-4898-cf6c-8e354ec8b3c9"
      },
      "outputs": [
        {
          "output_type": "stream",
          "name": "stderr",
          "text": [
            "/usr/local/lib/python3.7/dist-packages/ipykernel_launcher.py:4: SettingWithCopyWarning: \n",
            "A value is trying to be set on a copy of a slice from a DataFrame.\n",
            "Try using .loc[row_indexer,col_indexer] = value instead\n",
            "\n",
            "See the caveats in the documentation: https://pandas.pydata.org/pandas-docs/stable/user_guide/indexing.html#returning-a-view-versus-a-copy\n",
            "  after removing the cwd from sys.path.\n",
            "/usr/local/lib/python3.7/dist-packages/ipykernel_launcher.py:5: SettingWithCopyWarning: \n",
            "A value is trying to be set on a copy of a slice from a DataFrame.\n",
            "Try using .loc[row_indexer,col_indexer] = value instead\n",
            "\n",
            "See the caveats in the documentation: https://pandas.pydata.org/pandas-docs/stable/user_guide/indexing.html#returning-a-view-versus-a-copy\n",
            "  \"\"\"\n"
          ]
        }
      ],
      "source": [
        "modified_cols = ['Số tầng','Số phòng ngủ','Diện tích','Giá/m2']\n",
        "for col in modified_cols:\n",
        "    data = vn_house_df[col].dropna()\n",
        "    vn_house_df[col] = data.apply(remove)\n",
        "vn_house_df['Số tầng'] = pd.to_numeric(vn_house_df['Số tầng'])"
      ]
    },
    {
      "cell_type": "code",
      "execution_count": 13,
      "metadata": {
        "colab": {
          "base_uri": "https://localhost:8080/",
          "height": 424
        },
        "id": "iWx1zIrMVDod",
        "outputId": "c2dad870-60a0-44f5-8382-4eaf38650e72"
      },
      "outputs": [
        {
          "output_type": "execute_result",
          "data": {
            "text/plain": [
              "                                                 Địa chỉ  \\\n",
              "0      Đường Hoàng Quốc Việt, Phường Nghĩa Đô, Quận C...   \n",
              "1      Đường Kim Giang, Phường Kim Giang, Quận Thanh ...   \n",
              "2      phố minh khai, Phường Minh Khai, Quận Hai Bà T...   \n",
              "3      Đường Võng Thị, Phường Thụy Khuê, Quận Tây Hồ,...   \n",
              "4      Đường Kim Giang, Phường Kim Giang, Quận Thanh ...   \n",
              "...                                                  ...   \n",
              "82491  Đường Hồ Tùng Mậu, Phường Phúc Diễn, Quận Bắc ...   \n",
              "82492  Đường Trần Quốc Hoàn, Phường Quan Hoa, Quận Cầ...   \n",
              "82493  Đường Nguyễn Khánh Toàn, Phường Quan Hoa, Quận...   \n",
              "82494  Đường Quan Hoa, Phường Quan Hoa, Quận Cầu Giấy...   \n",
              "82495  Đường Hồ Tùng Mậu, Phường Mai Dịch, Quận Cầu G...   \n",
              "\n",
              "             Loại hình nhà ở Giấy tờ pháp lý  Số tầng  Số phòng ngủ  \\\n",
              "0               Nhà ngõ, hẻm        Đã có sổ      4.0           5.0   \n",
              "1      Nhà mặt phố, mặt tiền             NaN      NaN           3.0   \n",
              "2               Nhà ngõ, hẻm        Đã có sổ      4.0           4.0   \n",
              "3               Nhà ngõ, hẻm        Đã có sổ      NaN           6.0   \n",
              "4               Nhà ngõ, hẻm             NaN      NaN           4.0   \n",
              "...                      ...             ...      ...           ...   \n",
              "82491        Nhà phố liền kề             NaN      NaN           3.0   \n",
              "82492  Nhà mặt phố, mặt tiền             NaN      NaN           3.0   \n",
              "82493  Nhà mặt phố, mặt tiền        Đã có sổ      NaN           4.0   \n",
              "82494           Nhà ngõ, hẻm        Đã có sổ      NaN           4.0   \n",
              "82495        Nhà phố liền kề             NaN      NaN           4.0   \n",
              "\n",
              "       Diện tích   Giá/m2  \n",
              "0           46.0   8696.0  \n",
              "1           37.0  11622.0  \n",
              "2           40.0     65.0  \n",
              "3           51.0    100.0  \n",
              "4           36.0   8611.0  \n",
              "...          ...      ...  \n",
              "82491       38.0   8158.0  \n",
              "82492       50.0    292.0  \n",
              "82493       41.0  34146.0  \n",
              "82494       60.0  10167.0  \n",
              "82495       45.0  10222.0  \n",
              "\n",
              "[81626 rows x 7 columns]"
            ],
            "text/html": [
              "\n",
              "  <div id=\"df-61e434a7-8182-4b78-9c33-3a013327817c\">\n",
              "    <div class=\"colab-df-container\">\n",
              "      <div>\n",
              "<style scoped>\n",
              "    .dataframe tbody tr th:only-of-type {\n",
              "        vertical-align: middle;\n",
              "    }\n",
              "\n",
              "    .dataframe tbody tr th {\n",
              "        vertical-align: top;\n",
              "    }\n",
              "\n",
              "    .dataframe thead th {\n",
              "        text-align: right;\n",
              "    }\n",
              "</style>\n",
              "<table border=\"1\" class=\"dataframe\">\n",
              "  <thead>\n",
              "    <tr style=\"text-align: right;\">\n",
              "      <th></th>\n",
              "      <th>Địa chỉ</th>\n",
              "      <th>Loại hình nhà ở</th>\n",
              "      <th>Giấy tờ pháp lý</th>\n",
              "      <th>Số tầng</th>\n",
              "      <th>Số phòng ngủ</th>\n",
              "      <th>Diện tích</th>\n",
              "      <th>Giá/m2</th>\n",
              "    </tr>\n",
              "  </thead>\n",
              "  <tbody>\n",
              "    <tr>\n",
              "      <th>0</th>\n",
              "      <td>Đường Hoàng Quốc Việt, Phường Nghĩa Đô, Quận C...</td>\n",
              "      <td>Nhà ngõ, hẻm</td>\n",
              "      <td>Đã có sổ</td>\n",
              "      <td>4.0</td>\n",
              "      <td>5.0</td>\n",
              "      <td>46.0</td>\n",
              "      <td>8696.0</td>\n",
              "    </tr>\n",
              "    <tr>\n",
              "      <th>1</th>\n",
              "      <td>Đường Kim Giang, Phường Kim Giang, Quận Thanh ...</td>\n",
              "      <td>Nhà mặt phố, mặt tiền</td>\n",
              "      <td>NaN</td>\n",
              "      <td>NaN</td>\n",
              "      <td>3.0</td>\n",
              "      <td>37.0</td>\n",
              "      <td>11622.0</td>\n",
              "    </tr>\n",
              "    <tr>\n",
              "      <th>2</th>\n",
              "      <td>phố minh khai, Phường Minh Khai, Quận Hai Bà T...</td>\n",
              "      <td>Nhà ngõ, hẻm</td>\n",
              "      <td>Đã có sổ</td>\n",
              "      <td>4.0</td>\n",
              "      <td>4.0</td>\n",
              "      <td>40.0</td>\n",
              "      <td>65.0</td>\n",
              "    </tr>\n",
              "    <tr>\n",
              "      <th>3</th>\n",
              "      <td>Đường Võng Thị, Phường Thụy Khuê, Quận Tây Hồ,...</td>\n",
              "      <td>Nhà ngõ, hẻm</td>\n",
              "      <td>Đã có sổ</td>\n",
              "      <td>NaN</td>\n",
              "      <td>6.0</td>\n",
              "      <td>51.0</td>\n",
              "      <td>100.0</td>\n",
              "    </tr>\n",
              "    <tr>\n",
              "      <th>4</th>\n",
              "      <td>Đường Kim Giang, Phường Kim Giang, Quận Thanh ...</td>\n",
              "      <td>Nhà ngõ, hẻm</td>\n",
              "      <td>NaN</td>\n",
              "      <td>NaN</td>\n",
              "      <td>4.0</td>\n",
              "      <td>36.0</td>\n",
              "      <td>8611.0</td>\n",
              "    </tr>\n",
              "    <tr>\n",
              "      <th>...</th>\n",
              "      <td>...</td>\n",
              "      <td>...</td>\n",
              "      <td>...</td>\n",
              "      <td>...</td>\n",
              "      <td>...</td>\n",
              "      <td>...</td>\n",
              "      <td>...</td>\n",
              "    </tr>\n",
              "    <tr>\n",
              "      <th>82491</th>\n",
              "      <td>Đường Hồ Tùng Mậu, Phường Phúc Diễn, Quận Bắc ...</td>\n",
              "      <td>Nhà phố liền kề</td>\n",
              "      <td>NaN</td>\n",
              "      <td>NaN</td>\n",
              "      <td>3.0</td>\n",
              "      <td>38.0</td>\n",
              "      <td>8158.0</td>\n",
              "    </tr>\n",
              "    <tr>\n",
              "      <th>82492</th>\n",
              "      <td>Đường Trần Quốc Hoàn, Phường Quan Hoa, Quận Cầ...</td>\n",
              "      <td>Nhà mặt phố, mặt tiền</td>\n",
              "      <td>NaN</td>\n",
              "      <td>NaN</td>\n",
              "      <td>3.0</td>\n",
              "      <td>50.0</td>\n",
              "      <td>292.0</td>\n",
              "    </tr>\n",
              "    <tr>\n",
              "      <th>82493</th>\n",
              "      <td>Đường Nguyễn Khánh Toàn, Phường Quan Hoa, Quận...</td>\n",
              "      <td>Nhà mặt phố, mặt tiền</td>\n",
              "      <td>Đã có sổ</td>\n",
              "      <td>NaN</td>\n",
              "      <td>4.0</td>\n",
              "      <td>41.0</td>\n",
              "      <td>34146.0</td>\n",
              "    </tr>\n",
              "    <tr>\n",
              "      <th>82494</th>\n",
              "      <td>Đường Quan Hoa, Phường Quan Hoa, Quận Cầu Giấy...</td>\n",
              "      <td>Nhà ngõ, hẻm</td>\n",
              "      <td>Đã có sổ</td>\n",
              "      <td>NaN</td>\n",
              "      <td>4.0</td>\n",
              "      <td>60.0</td>\n",
              "      <td>10167.0</td>\n",
              "    </tr>\n",
              "    <tr>\n",
              "      <th>82495</th>\n",
              "      <td>Đường Hồ Tùng Mậu, Phường Mai Dịch, Quận Cầu G...</td>\n",
              "      <td>Nhà phố liền kề</td>\n",
              "      <td>NaN</td>\n",
              "      <td>NaN</td>\n",
              "      <td>4.0</td>\n",
              "      <td>45.0</td>\n",
              "      <td>10222.0</td>\n",
              "    </tr>\n",
              "  </tbody>\n",
              "</table>\n",
              "<p>81626 rows × 7 columns</p>\n",
              "</div>\n",
              "      <button class=\"colab-df-convert\" onclick=\"convertToInteractive('df-61e434a7-8182-4b78-9c33-3a013327817c')\"\n",
              "              title=\"Convert this dataframe to an interactive table.\"\n",
              "              style=\"display:none;\">\n",
              "        \n",
              "  <svg xmlns=\"http://www.w3.org/2000/svg\" height=\"24px\"viewBox=\"0 0 24 24\"\n",
              "       width=\"24px\">\n",
              "    <path d=\"M0 0h24v24H0V0z\" fill=\"none\"/>\n",
              "    <path d=\"M18.56 5.44l.94 2.06.94-2.06 2.06-.94-2.06-.94-.94-2.06-.94 2.06-2.06.94zm-11 1L8.5 8.5l.94-2.06 2.06-.94-2.06-.94L8.5 2.5l-.94 2.06-2.06.94zm10 10l.94 2.06.94-2.06 2.06-.94-2.06-.94-.94-2.06-.94 2.06-2.06.94z\"/><path d=\"M17.41 7.96l-1.37-1.37c-.4-.4-.92-.59-1.43-.59-.52 0-1.04.2-1.43.59L10.3 9.45l-7.72 7.72c-.78.78-.78 2.05 0 2.83L4 21.41c.39.39.9.59 1.41.59.51 0 1.02-.2 1.41-.59l7.78-7.78 2.81-2.81c.8-.78.8-2.07 0-2.86zM5.41 20L4 18.59l7.72-7.72 1.47 1.35L5.41 20z\"/>\n",
              "  </svg>\n",
              "      </button>\n",
              "      \n",
              "  <style>\n",
              "    .colab-df-container {\n",
              "      display:flex;\n",
              "      flex-wrap:wrap;\n",
              "      gap: 12px;\n",
              "    }\n",
              "\n",
              "    .colab-df-convert {\n",
              "      background-color: #E8F0FE;\n",
              "      border: none;\n",
              "      border-radius: 50%;\n",
              "      cursor: pointer;\n",
              "      display: none;\n",
              "      fill: #1967D2;\n",
              "      height: 32px;\n",
              "      padding: 0 0 0 0;\n",
              "      width: 32px;\n",
              "    }\n",
              "\n",
              "    .colab-df-convert:hover {\n",
              "      background-color: #E2EBFA;\n",
              "      box-shadow: 0px 1px 2px rgba(60, 64, 67, 0.3), 0px 1px 3px 1px rgba(60, 64, 67, 0.15);\n",
              "      fill: #174EA6;\n",
              "    }\n",
              "\n",
              "    [theme=dark] .colab-df-convert {\n",
              "      background-color: #3B4455;\n",
              "      fill: #D2E3FC;\n",
              "    }\n",
              "\n",
              "    [theme=dark] .colab-df-convert:hover {\n",
              "      background-color: #434B5C;\n",
              "      box-shadow: 0px 1px 3px 1px rgba(0, 0, 0, 0.15);\n",
              "      filter: drop-shadow(0px 1px 2px rgba(0, 0, 0, 0.3));\n",
              "      fill: #FFFFFF;\n",
              "    }\n",
              "  </style>\n",
              "\n",
              "      <script>\n",
              "        const buttonEl =\n",
              "          document.querySelector('#df-61e434a7-8182-4b78-9c33-3a013327817c button.colab-df-convert');\n",
              "        buttonEl.style.display =\n",
              "          google.colab.kernel.accessAllowed ? 'block' : 'none';\n",
              "\n",
              "        async function convertToInteractive(key) {\n",
              "          const element = document.querySelector('#df-61e434a7-8182-4b78-9c33-3a013327817c');\n",
              "          const dataTable =\n",
              "            await google.colab.kernel.invokeFunction('convertToInteractive',\n",
              "                                                     [key], {});\n",
              "          if (!dataTable) return;\n",
              "\n",
              "          const docLinkHtml = 'Like what you see? Visit the ' +\n",
              "            '<a target=\"_blank\" href=https://colab.research.google.com/notebooks/data_table.ipynb>data table notebook</a>'\n",
              "            + ' to learn more about interactive tables.';\n",
              "          element.innerHTML = '';\n",
              "          dataTable['output_type'] = 'display_data';\n",
              "          await google.colab.output.renderOutput(dataTable, element);\n",
              "          const docLink = document.createElement('div');\n",
              "          docLink.innerHTML = docLinkHtml;\n",
              "          element.appendChild(docLink);\n",
              "        }\n",
              "      </script>\n",
              "    </div>\n",
              "  </div>\n",
              "  "
            ]
          },
          "metadata": {},
          "execution_count": 13
        }
      ],
      "source": [
        "vn_house_df"
      ]
    },
    {
      "cell_type": "markdown",
      "metadata": {
        "id": "LhhKqsP7VDod"
      },
      "source": [
        "Tiền xử lý hoàn thành"
      ]
    },
    {
      "cell_type": "markdown",
      "metadata": {
        "id": "aHawm0ooVDod"
      },
      "source": [
        "## Thống kê mô tả"
      ]
    },
    {
      "cell_type": "markdown",
      "metadata": {
        "id": "TNby13R6VDod"
      },
      "source": [
        "### Võ Trần Quang Tuấn"
      ]
    },
    {
      "cell_type": "markdown",
      "metadata": {
        "id": "gbtbICEbVDoe"
      },
      "source": [
        "Chúng ta sẽ thống kê các đại lượng trong thống kê mô tả như sau:\n",
        "* Giá trị trung bình: mean\n",
        "* Độ lệch chuẩn: std\n",
        "* Giá trị nhỏ nhất: min\n",
        "* Tứ phân vị thứ nhất: Q1\n",
        "* Tứ phân vị thứ hai: Q2, hay còn gọi là trung vị: median\n",
        "* Tứ phân vị thứ ba: Q3\n",
        "* Giá trị lớn nhất: max"
      ]
    },
    {
      "cell_type": "code",
      "execution_count": 14,
      "metadata": {
        "colab": {
          "base_uri": "https://localhost:8080/",
          "height": 300
        },
        "id": "7AHJh4g_VDoe",
        "outputId": "029bef3d-348b-4d1a-b28a-e9a3e021e069"
      },
      "outputs": [
        {
          "output_type": "execute_result",
          "data": {
            "text/plain": [
              "            Số tầng  Số phòng ngủ     Diện tích        Giá/m2\n",
              "count  36051.000000  81588.000000  81626.000000  81626.000000\n",
              "mean       4.461735      3.880166     47.732516   7391.390746\n",
              "std        1.555215      1.495723     63.173632   6828.196694\n",
              "min        1.000000      1.000000      2.000000      1.000000\n",
              "25%        4.000000      3.000000     34.000000    925.000000\n",
              "50%        5.000000      4.000000     40.000000   7657.000000\n",
              "75%        5.000000      4.000000     50.000000   9848.000000\n",
              "max       73.000000     11.000000  10360.000000  98361.000000"
            ],
            "text/html": [
              "\n",
              "  <div id=\"df-61b245f4-3b05-4c1d-9557-7a4d3cd43ff2\">\n",
              "    <div class=\"colab-df-container\">\n",
              "      <div>\n",
              "<style scoped>\n",
              "    .dataframe tbody tr th:only-of-type {\n",
              "        vertical-align: middle;\n",
              "    }\n",
              "\n",
              "    .dataframe tbody tr th {\n",
              "        vertical-align: top;\n",
              "    }\n",
              "\n",
              "    .dataframe thead th {\n",
              "        text-align: right;\n",
              "    }\n",
              "</style>\n",
              "<table border=\"1\" class=\"dataframe\">\n",
              "  <thead>\n",
              "    <tr style=\"text-align: right;\">\n",
              "      <th></th>\n",
              "      <th>Số tầng</th>\n",
              "      <th>Số phòng ngủ</th>\n",
              "      <th>Diện tích</th>\n",
              "      <th>Giá/m2</th>\n",
              "    </tr>\n",
              "  </thead>\n",
              "  <tbody>\n",
              "    <tr>\n",
              "      <th>count</th>\n",
              "      <td>36051.000000</td>\n",
              "      <td>81588.000000</td>\n",
              "      <td>81626.000000</td>\n",
              "      <td>81626.000000</td>\n",
              "    </tr>\n",
              "    <tr>\n",
              "      <th>mean</th>\n",
              "      <td>4.461735</td>\n",
              "      <td>3.880166</td>\n",
              "      <td>47.732516</td>\n",
              "      <td>7391.390746</td>\n",
              "    </tr>\n",
              "    <tr>\n",
              "      <th>std</th>\n",
              "      <td>1.555215</td>\n",
              "      <td>1.495723</td>\n",
              "      <td>63.173632</td>\n",
              "      <td>6828.196694</td>\n",
              "    </tr>\n",
              "    <tr>\n",
              "      <th>min</th>\n",
              "      <td>1.000000</td>\n",
              "      <td>1.000000</td>\n",
              "      <td>2.000000</td>\n",
              "      <td>1.000000</td>\n",
              "    </tr>\n",
              "    <tr>\n",
              "      <th>25%</th>\n",
              "      <td>4.000000</td>\n",
              "      <td>3.000000</td>\n",
              "      <td>34.000000</td>\n",
              "      <td>925.000000</td>\n",
              "    </tr>\n",
              "    <tr>\n",
              "      <th>50%</th>\n",
              "      <td>5.000000</td>\n",
              "      <td>4.000000</td>\n",
              "      <td>40.000000</td>\n",
              "      <td>7657.000000</td>\n",
              "    </tr>\n",
              "    <tr>\n",
              "      <th>75%</th>\n",
              "      <td>5.000000</td>\n",
              "      <td>4.000000</td>\n",
              "      <td>50.000000</td>\n",
              "      <td>9848.000000</td>\n",
              "    </tr>\n",
              "    <tr>\n",
              "      <th>max</th>\n",
              "      <td>73.000000</td>\n",
              "      <td>11.000000</td>\n",
              "      <td>10360.000000</td>\n",
              "      <td>98361.000000</td>\n",
              "    </tr>\n",
              "  </tbody>\n",
              "</table>\n",
              "</div>\n",
              "      <button class=\"colab-df-convert\" onclick=\"convertToInteractive('df-61b245f4-3b05-4c1d-9557-7a4d3cd43ff2')\"\n",
              "              title=\"Convert this dataframe to an interactive table.\"\n",
              "              style=\"display:none;\">\n",
              "        \n",
              "  <svg xmlns=\"http://www.w3.org/2000/svg\" height=\"24px\"viewBox=\"0 0 24 24\"\n",
              "       width=\"24px\">\n",
              "    <path d=\"M0 0h24v24H0V0z\" fill=\"none\"/>\n",
              "    <path d=\"M18.56 5.44l.94 2.06.94-2.06 2.06-.94-2.06-.94-.94-2.06-.94 2.06-2.06.94zm-11 1L8.5 8.5l.94-2.06 2.06-.94-2.06-.94L8.5 2.5l-.94 2.06-2.06.94zm10 10l.94 2.06.94-2.06 2.06-.94-2.06-.94-.94-2.06-.94 2.06-2.06.94z\"/><path d=\"M17.41 7.96l-1.37-1.37c-.4-.4-.92-.59-1.43-.59-.52 0-1.04.2-1.43.59L10.3 9.45l-7.72 7.72c-.78.78-.78 2.05 0 2.83L4 21.41c.39.39.9.59 1.41.59.51 0 1.02-.2 1.41-.59l7.78-7.78 2.81-2.81c.8-.78.8-2.07 0-2.86zM5.41 20L4 18.59l7.72-7.72 1.47 1.35L5.41 20z\"/>\n",
              "  </svg>\n",
              "      </button>\n",
              "      \n",
              "  <style>\n",
              "    .colab-df-container {\n",
              "      display:flex;\n",
              "      flex-wrap:wrap;\n",
              "      gap: 12px;\n",
              "    }\n",
              "\n",
              "    .colab-df-convert {\n",
              "      background-color: #E8F0FE;\n",
              "      border: none;\n",
              "      border-radius: 50%;\n",
              "      cursor: pointer;\n",
              "      display: none;\n",
              "      fill: #1967D2;\n",
              "      height: 32px;\n",
              "      padding: 0 0 0 0;\n",
              "      width: 32px;\n",
              "    }\n",
              "\n",
              "    .colab-df-convert:hover {\n",
              "      background-color: #E2EBFA;\n",
              "      box-shadow: 0px 1px 2px rgba(60, 64, 67, 0.3), 0px 1px 3px 1px rgba(60, 64, 67, 0.15);\n",
              "      fill: #174EA6;\n",
              "    }\n",
              "\n",
              "    [theme=dark] .colab-df-convert {\n",
              "      background-color: #3B4455;\n",
              "      fill: #D2E3FC;\n",
              "    }\n",
              "\n",
              "    [theme=dark] .colab-df-convert:hover {\n",
              "      background-color: #434B5C;\n",
              "      box-shadow: 0px 1px 3px 1px rgba(0, 0, 0, 0.15);\n",
              "      filter: drop-shadow(0px 1px 2px rgba(0, 0, 0, 0.3));\n",
              "      fill: #FFFFFF;\n",
              "    }\n",
              "  </style>\n",
              "\n",
              "      <script>\n",
              "        const buttonEl =\n",
              "          document.querySelector('#df-61b245f4-3b05-4c1d-9557-7a4d3cd43ff2 button.colab-df-convert');\n",
              "        buttonEl.style.display =\n",
              "          google.colab.kernel.accessAllowed ? 'block' : 'none';\n",
              "\n",
              "        async function convertToInteractive(key) {\n",
              "          const element = document.querySelector('#df-61b245f4-3b05-4c1d-9557-7a4d3cd43ff2');\n",
              "          const dataTable =\n",
              "            await google.colab.kernel.invokeFunction('convertToInteractive',\n",
              "                                                     [key], {});\n",
              "          if (!dataTable) return;\n",
              "\n",
              "          const docLinkHtml = 'Like what you see? Visit the ' +\n",
              "            '<a target=\"_blank\" href=https://colab.research.google.com/notebooks/data_table.ipynb>data table notebook</a>'\n",
              "            + ' to learn more about interactive tables.';\n",
              "          element.innerHTML = '';\n",
              "          dataTable['output_type'] = 'display_data';\n",
              "          await google.colab.output.renderOutput(dataTable, element);\n",
              "          const docLink = document.createElement('div');\n",
              "          docLink.innerHTML = docLinkHtml;\n",
              "          element.appendChild(docLink);\n",
              "        }\n",
              "      </script>\n",
              "    </div>\n",
              "  </div>\n",
              "  "
            ]
          },
          "metadata": {},
          "execution_count": 14
        }
      ],
      "source": [
        "vn_house_df.describe()"
      ]
    },
    {
      "cell_type": "markdown",
      "metadata": {
        "id": "n2HsEuNgVDoe"
      },
      "source": [
        "Trực quan hóa cho thuộc tính \"Số phòng ngủ\" thông qua biểu đồ hộp và rút ra các thông số thống kê"
      ]
    },
    {
      "cell_type": "code",
      "execution_count": 15,
      "metadata": {
        "colab": {
          "base_uri": "https://localhost:8080/",
          "height": 297
        },
        "id": "oAp4dxT6VDoe",
        "outputId": "39abe916-0c63-4ceb-800e-c19a97ed5621"
      },
      "outputs": [
        {
          "output_type": "execute_result",
          "data": {
            "text/plain": [
              "<matplotlib.axes._subplots.AxesSubplot at 0x7f5946429910>"
            ]
          },
          "metadata": {},
          "execution_count": 15
        },
        {
          "output_type": "display_data",
          "data": {
            "text/plain": [
              "<Figure size 432x288 with 1 Axes>"
            ],
            "image/png": "[encoded data removed]"
          },
          "metadata": {
            "needs_background": "light"
          }
        }
      ],
      "source": [
        "sns.boxplot(x='Số phòng ngủ', data=vn_house_df)"
      ]
    },
    {
      "cell_type": "markdown",
      "metadata": {
        "id": "2oJzTumbVDoe"
      },
      "source": [
        "* mean = 3.880166\n",
        "* std = 1.495723\n",
        "* min = 1.000000\n",
        "* Q1 = 3.000000\n",
        "* Q2 = median = 4.000000\n",
        "* Q3 = 4.000000\n",
        "* max = 11.000000"
      ]
    },
    {
      "cell_type": "markdown",
      "metadata": {
        "id": "V4XIn0jcVDof"
      },
      "source": [
        "Trực quan hóa cho thuộc tính \"Số tầng\" thông qua biểu đồ hộp và rút ra các thông số thống kê"
      ]
    },
    {
      "cell_type": "code",
      "execution_count": 16,
      "metadata": {
        "colab": {
          "base_uri": "https://localhost:8080/",
          "height": 297
        },
        "id": "d3ymEQu-VDof",
        "outputId": "674a4ef7-3ebb-42fe-80db-e2d402f1e14f"
      },
      "outputs": [
        {
          "output_type": "execute_result",
          "data": {
            "text/plain": [
              "<matplotlib.axes._subplots.AxesSubplot at 0x7f59460bd850>"
            ]
          },
          "metadata": {},
          "execution_count": 16
        },
        {
          "output_type": "display_data",
          "data": {
            "text/plain": [
              "<Figure size 432x288 with 1 Axes>"
            ],
            "image/png": "[encoded data removed]"
          },
          "metadata": {
            "needs_background": "light"
          }
        }
      ],
      "source": [
        "sns.boxplot(x='Số tầng', data=vn_house_df)"
      ]
    },
    {
      "cell_type": "markdown",
      "metadata": {
        "id": "KrUOu5quVDof"
      },
      "source": [
        "* mean = 4.461735\n",
        "* std = 1.555215\t\n",
        "* min = 1.000000\n",
        "* Q1 = 4.000000\n",
        "* Q2 = median = 4.000000\n",
        "* Q3 = 5.000000\n",
        "* max = 73.000000"
      ]
    },
    {
      "cell_type": "markdown",
      "metadata": {
        "id": "mMo_OtmPVDof"
      },
      "source": [
        "Trực quan hóa cho thuộc tính \"Diện tích\" thông qua biểu đồ hộp và rút ra các thông số thống kê"
      ]
    },
    {
      "cell_type": "code",
      "execution_count": 17,
      "metadata": {
        "colab": {
          "base_uri": "https://localhost:8080/",
          "height": 297
        },
        "id": "eixQwO_uVDof",
        "outputId": "f1b3775b-ed8b-498f-f861-4a4f793e3a03"
      },
      "outputs": [
        {
          "output_type": "execute_result",
          "data": {
            "text/plain": [
              "<matplotlib.axes._subplots.AxesSubplot at 0x7f5945beee10>"
            ]
          },
          "metadata": {},
          "execution_count": 17
        },
        {
          "output_type": "display_data",
          "data": {
            "text/plain": [
              "<Figure size 432x288 with 1 Axes>"
            ],
            "image/png": "[encoded data removed]"
          },
          "metadata": {
            "needs_background": "light"
          }
        }
      ],
      "source": [
        "sns.boxplot(x='Diện tích', data=vn_house_df)"
      ]
    },
    {
      "cell_type": "markdown",
      "metadata": {
        "id": "OG-3AzlMVDof"
      },
      "source": [
        "* mean = 47.732516\n",
        "* std = 63.173632\t\n",
        "* min = 2.000000\n",
        "* Q1 = 34.000000\n",
        "* Q2 = median = 40.000000\n",
        "* Q3 = 50.000000\n",
        "* max = 10360.000000"
      ]
    },
    {
      "cell_type": "markdown",
      "metadata": {
        "id": "YhCcEaazVDog"
      },
      "source": [
        "Trực quan hóa cho thuộc tính \"Giá/m2\" thông qua biểu đồ hộp và rút ra các thông số thống kê"
      ]
    },
    {
      "cell_type": "code",
      "execution_count": 18,
      "metadata": {
        "colab": {
          "base_uri": "https://localhost:8080/",
          "height": 296
        },
        "id": "4k7sXS-QVDog",
        "outputId": "2043c6dd-c4bf-4dd5-8cb7-70c401e2534c"
      },
      "outputs": [
        {
          "output_type": "execute_result",
          "data": {
            "text/plain": [
              "<matplotlib.axes._subplots.AxesSubplot at 0x7f59460f37d0>"
            ]
          },
          "metadata": {},
          "execution_count": 18
        },
        {
          "output_type": "display_data",
          "data": {
            "text/plain": [
              "<Figure size 432x288 with 1 Axes>"
            ],
            "image/png": "[encoded data removed]"
          },
          "metadata": {
            "needs_background": "light"
          }
        }
      ],
      "source": [
        "sns.boxplot(x='Giá/m2', data=vn_house_df)"
      ]
    },
    {
      "cell_type": "markdown",
      "metadata": {
        "id": "7JWFOGXnVDog"
      },
      "source": [
        "* mean = 7391.390746\n",
        "* std = 6828.196694\n",
        "* min = 1.000000\n",
        "* Q1 = 925.000000\n",
        "* Q2 = median = 7657.000000\n",
        "* Q3 = 9848.000000\n",
        "* max = 98361.000000"
      ]
    },
    {
      "cell_type": "markdown",
      "metadata": {
        "id": "CwH0boALVDog"
      },
      "source": [
        "## Phân tích dữ liệu"
      ]
    },
    {
      "cell_type": "markdown",
      "metadata": {
        "id": "3qcDHPSCVDog"
      },
      "source": [
        "### Trương Chí Toàn"
      ]
    },
    {
      "cell_type": "markdown",
      "metadata": {
        "id": "EJC9hVNbVDog"
      },
      "source": [
        "### Với mỗi cột numerical, dữ liệu được phân bố như thế nào?"
      ]
    },
    {
      "cell_type": "code",
      "execution_count": 19,
      "metadata": {
        "colab": {
          "base_uri": "https://localhost:8080/",
          "height": 143
        },
        "id": "DMfQldmDVDoh",
        "outputId": "c9f7380c-3e39-4104-baa3-1ec7c6eae495"
      },
      "outputs": [
        {
          "output_type": "execute_result",
          "data": {
            "text/plain": [
              "                 Số tầng  Số phòng ngủ  Diện tích   Giá/m2\n",
              "missing_ratio  55.833925      0.046554        0.0      0.0\n",
              "min             1.000000      1.000000        2.0      1.0\n",
              "max            73.000000     11.000000    10360.0  98361.0"
            ],
            "text/html": [
              "\n",
              "  <div id=\"df-9c39cd3b-2d94-4fc5-ad75-28dc426fc74a\">\n",
              "    <div class=\"colab-df-container\">\n",
              "      <div>\n",
              "<style scoped>\n",
              "    .dataframe tbody tr th:only-of-type {\n",
              "        vertical-align: middle;\n",
              "    }\n",
              "\n",
              "    .dataframe tbody tr th {\n",
              "        vertical-align: top;\n",
              "    }\n",
              "\n",
              "    .dataframe thead th {\n",
              "        text-align: right;\n",
              "    }\n",
              "</style>\n",
              "<table border=\"1\" class=\"dataframe\">\n",
              "  <thead>\n",
              "    <tr style=\"text-align: right;\">\n",
              "      <th></th>\n",
              "      <th>Số tầng</th>\n",
              "      <th>Số phòng ngủ</th>\n",
              "      <th>Diện tích</th>\n",
              "      <th>Giá/m2</th>\n",
              "    </tr>\n",
              "  </thead>\n",
              "  <tbody>\n",
              "    <tr>\n",
              "      <th>missing_ratio</th>\n",
              "      <td>55.833925</td>\n",
              "      <td>0.046554</td>\n",
              "      <td>0.0</td>\n",
              "      <td>0.0</td>\n",
              "    </tr>\n",
              "    <tr>\n",
              "      <th>min</th>\n",
              "      <td>1.000000</td>\n",
              "      <td>1.000000</td>\n",
              "      <td>2.0</td>\n",
              "      <td>1.0</td>\n",
              "    </tr>\n",
              "    <tr>\n",
              "      <th>max</th>\n",
              "      <td>73.000000</td>\n",
              "      <td>11.000000</td>\n",
              "      <td>10360.0</td>\n",
              "      <td>98361.0</td>\n",
              "    </tr>\n",
              "  </tbody>\n",
              "</table>\n",
              "</div>\n",
              "      <button class=\"colab-df-convert\" onclick=\"convertToInteractive('df-9c39cd3b-2d94-4fc5-ad75-28dc426fc74a')\"\n",
              "              title=\"Convert this dataframe to an interactive table.\"\n",
              "              style=\"display:none;\">\n",
              "        \n",
              "  <svg xmlns=\"http://www.w3.org/2000/svg\" height=\"24px\"viewBox=\"0 0 24 24\"\n",
              "       width=\"24px\">\n",
              "    <path d=\"M0 0h24v24H0V0z\" fill=\"none\"/>\n",
              "    <path d=\"M18.56 5.44l.94 2.06.94-2.06 2.06-.94-2.06-.94-.94-2.06-.94 2.06-2.06.94zm-11 1L8.5 8.5l.94-2.06 2.06-.94-2.06-.94L8.5 2.5l-.94 2.06-2.06.94zm10 10l.94 2.06.94-2.06 2.06-.94-2.06-.94-.94-2.06-.94 2.06-2.06.94z\"/><path d=\"M17.41 7.96l-1.37-1.37c-.4-.4-.92-.59-1.43-.59-.52 0-1.04.2-1.43.59L10.3 9.45l-7.72 7.72c-.78.78-.78 2.05 0 2.83L4 21.41c.39.39.9.59 1.41.59.51 0 1.02-.2 1.41-.59l7.78-7.78 2.81-2.81c.8-.78.8-2.07 0-2.86zM5.41 20L4 18.59l7.72-7.72 1.47 1.35L5.41 20z\"/>\n",
              "  </svg>\n",
              "      </button>\n",
              "      \n",
              "  <style>\n",
              "    .colab-df-container {\n",
              "      display:flex;\n",
              "      flex-wrap:wrap;\n",
              "      gap: 12px;\n",
              "    }\n",
              "\n",
              "    .colab-df-convert {\n",
              "      background-color: #E8F0FE;\n",
              "      border: none;\n",
              "      border-radius: 50%;\n",
              "      cursor: pointer;\n",
              "      display: none;\n",
              "      fill: #1967D2;\n",
              "      height: 32px;\n",
              "      padding: 0 0 0 0;\n",
              "      width: 32px;\n",
              "    }\n",
              "\n",
              "    .colab-df-convert:hover {\n",
              "      background-color: #E2EBFA;\n",
              "      box-shadow: 0px 1px 2px rgba(60, 64, 67, 0.3), 0px 1px 3px 1px rgba(60, 64, 67, 0.15);\n",
              "      fill: #174EA6;\n",
              "    }\n",
              "\n",
              "    [theme=dark] .colab-df-convert {\n",
              "      background-color: #3B4455;\n",
              "      fill: #D2E3FC;\n",
              "    }\n",
              "\n",
              "    [theme=dark] .colab-df-convert:hover {\n",
              "      background-color: #434B5C;\n",
              "      box-shadow: 0px 1px 3px 1px rgba(0, 0, 0, 0.15);\n",
              "      filter: drop-shadow(0px 1px 2px rgba(0, 0, 0, 0.3));\n",
              "      fill: #FFFFFF;\n",
              "    }\n",
              "  </style>\n",
              "\n",
              "      <script>\n",
              "        const buttonEl =\n",
              "          document.querySelector('#df-9c39cd3b-2d94-4fc5-ad75-28dc426fc74a button.colab-df-convert');\n",
              "        buttonEl.style.display =\n",
              "          google.colab.kernel.accessAllowed ? 'block' : 'none';\n",
              "\n",
              "        async function convertToInteractive(key) {\n",
              "          const element = document.querySelector('#df-9c39cd3b-2d94-4fc5-ad75-28dc426fc74a');\n",
              "          const dataTable =\n",
              "            await google.colab.kernel.invokeFunction('convertToInteractive',\n",
              "                                                     [key], {});\n",
              "          if (!dataTable) return;\n",
              "\n",
              "          const docLinkHtml = 'Like what you see? Visit the ' +\n",
              "            '<a target=\"_blank\" href=https://colab.research.google.com/notebooks/data_table.ipynb>data table notebook</a>'\n",
              "            + ' to learn more about interactive tables.';\n",
              "          element.innerHTML = '';\n",
              "          dataTable['output_type'] = 'display_data';\n",
              "          await google.colab.output.renderOutput(dataTable, element);\n",
              "          const docLink = document.createElement('div');\n",
              "          docLink.innerHTML = docLinkHtml;\n",
              "          element.appendChild(docLink);\n",
              "        }\n",
              "      </script>\n",
              "    </div>\n",
              "  </div>\n",
              "  "
            ]
          },
          "metadata": {},
          "execution_count": 19
        }
      ],
      "source": [
        "def missing_ratio(col):\n",
        "    return col.isna().mean() * 100\n",
        "nume_col_profiles_df = vn_house_df[numerical_cols].agg([missing_ratio,pd.Series.min,pd.Series.max])\n",
        "nume_col_profiles_df"
      ]
    },
    {
      "cell_type": "markdown",
      "metadata": {
        "id": "hU6sODF8VDoh"
      },
      "source": [
        "Như ta thấy, số lượng min max của mỗi cột đều khá hợp lý, nên ta sẽ xét lượng missing_ratio"
      ]
    },
    {
      "cell_type": "markdown",
      "metadata": {
        "id": "aS6FI-hEVDoh"
      },
      "source": [
        "Cột diện tích và Giá/m2 không bị thiếu dữ liệu. Số phòng ngủ thì chỉ thiếu khoảng 0.05%, không đáng kể. Điều bất thường ở đây là số tầng thì lại thiếu tới 55,8% tới hơn 1 nửa tổng dữ liệu. Khá là kỳ lạ"
      ]
    },
    {
      "cell_type": "markdown",
      "metadata": {
        "id": "meSb3uuBVDoh"
      },
      "source": [
        "Ở đây ta sẽ thực hiện 2 việc:\n",
        "- Bỏ những dòng giá trị nan ở cột số phòng ngủ\n",
        "- Thay giá trị nan ở cột số tầng thành 0."
      ]
    },
    {
      "cell_type": "code",
      "execution_count": 20,
      "metadata": {
        "colab": {
          "base_uri": "https://localhost:8080/"
        },
        "id": "ZX6IVF-dVDoh",
        "outputId": "65bda912-b02c-45a2-a35f-134c738973a8"
      },
      "outputs": [
        {
          "output_type": "stream",
          "name": "stderr",
          "text": [
            "/usr/local/lib/python3.7/dist-packages/pandas/util/_decorators.py:311: SettingWithCopyWarning: \n",
            "A value is trying to be set on a copy of a slice from a DataFrame\n",
            "\n",
            "See the caveats in the documentation: https://pandas.pydata.org/pandas-docs/stable/user_guide/indexing.html#returning-a-view-versus-a-copy\n",
            "  return func(*args, **kwargs)\n"
          ]
        }
      ],
      "source": [
        "vn_house_df.dropna(subset=['Số phòng ngủ'], how='all', inplace=True)"
      ]
    },
    {
      "cell_type": "code",
      "execution_count": 21,
      "metadata": {
        "colab": {
          "base_uri": "https://localhost:8080/"
        },
        "id": "oXCqjuo5VDoh",
        "outputId": "3b839b07-6a8a-4ee0-9d5d-9f2cda5d5502"
      },
      "outputs": [
        {
          "output_type": "stream",
          "name": "stderr",
          "text": [
            "/usr/local/lib/python3.7/dist-packages/ipykernel_launcher.py:1: SettingWithCopyWarning: \n",
            "A value is trying to be set on a copy of a slice from a DataFrame.\n",
            "Try using .loc[row_indexer,col_indexer] = value instead\n",
            "\n",
            "See the caveats in the documentation: https://pandas.pydata.org/pandas-docs/stable/user_guide/indexing.html#returning-a-view-versus-a-copy\n",
            "  \"\"\"Entry point for launching an IPython kernel.\n"
          ]
        }
      ],
      "source": [
        "vn_house_df['Số tầng'] = vn_house_df['Số tầng'].fillna(0)"
      ]
    },
    {
      "cell_type": "markdown",
      "metadata": {
        "id": "WInwn_yBVDoi"
      },
      "source": [
        "Giờ ta hãy kiểm tra lại missing ratio"
      ]
    },
    {
      "cell_type": "code",
      "execution_count": 22,
      "metadata": {
        "colab": {
          "base_uri": "https://localhost:8080/",
          "height": 81
        },
        "id": "ha-kVNp0VDoi",
        "outputId": "112c2ee7-5569-492b-ea35-9e91be5f742a"
      },
      "outputs": [
        {
          "output_type": "execute_result",
          "data": {
            "text/plain": [
              "               Số tầng  Số phòng ngủ  Diện tích  Giá/m2\n",
              "missing_ratio      0.0           0.0        0.0     0.0"
            ],
            "text/html": [
              "\n",
              "  <div id=\"df-249c01d9-9112-4c67-9d4f-b432296e0d25\">\n",
              "    <div class=\"colab-df-container\">\n",
              "      <div>\n",
              "<style scoped>\n",
              "    .dataframe tbody tr th:only-of-type {\n",
              "        vertical-align: middle;\n",
              "    }\n",
              "\n",
              "    .dataframe tbody tr th {\n",
              "        vertical-align: top;\n",
              "    }\n",
              "\n",
              "    .dataframe thead th {\n",
              "        text-align: right;\n",
              "    }\n",
              "</style>\n",
              "<table border=\"1\" class=\"dataframe\">\n",
              "  <thead>\n",
              "    <tr style=\"text-align: right;\">\n",
              "      <th></th>\n",
              "      <th>Số tầng</th>\n",
              "      <th>Số phòng ngủ</th>\n",
              "      <th>Diện tích</th>\n",
              "      <th>Giá/m2</th>\n",
              "    </tr>\n",
              "  </thead>\n",
              "  <tbody>\n",
              "    <tr>\n",
              "      <th>missing_ratio</th>\n",
              "      <td>0.0</td>\n",
              "      <td>0.0</td>\n",
              "      <td>0.0</td>\n",
              "      <td>0.0</td>\n",
              "    </tr>\n",
              "  </tbody>\n",
              "</table>\n",
              "</div>\n",
              "      <button class=\"colab-df-convert\" onclick=\"convertToInteractive('df-249c01d9-9112-4c67-9d4f-b432296e0d25')\"\n",
              "              title=\"Convert this dataframe to an interactive table.\"\n",
              "              style=\"display:none;\">\n",
              "        \n",
              "  <svg xmlns=\"http://www.w3.org/2000/svg\" height=\"24px\"viewBox=\"0 0 24 24\"\n",
              "       width=\"24px\">\n",
              "    <path d=\"M0 0h24v24H0V0z\" fill=\"none\"/>\n",
              "    <path d=\"M18.56 5.44l.94 2.06.94-2.06 2.06-.94-2.06-.94-.94-2.06-.94 2.06-2.06.94zm-11 1L8.5 8.5l.94-2.06 2.06-.94-2.06-.94L8.5 2.5l-.94 2.06-2.06.94zm10 10l.94 2.06.94-2.06 2.06-.94-2.06-.94-.94-2.06-.94 2.06-2.06.94z\"/><path d=\"M17.41 7.96l-1.37-1.37c-.4-.4-.92-.59-1.43-.59-.52 0-1.04.2-1.43.59L10.3 9.45l-7.72 7.72c-.78.78-.78 2.05 0 2.83L4 21.41c.39.39.9.59 1.41.59.51 0 1.02-.2 1.41-.59l7.78-7.78 2.81-2.81c.8-.78.8-2.07 0-2.86zM5.41 20L4 18.59l7.72-7.72 1.47 1.35L5.41 20z\"/>\n",
              "  </svg>\n",
              "      </button>\n",
              "      \n",
              "  <style>\n",
              "    .colab-df-container {\n",
              "      display:flex;\n",
              "      flex-wrap:wrap;\n",
              "      gap: 12px;\n",
              "    }\n",
              "\n",
              "    .colab-df-convert {\n",
              "      background-color: #E8F0FE;\n",
              "      border: none;\n",
              "      border-radius: 50%;\n",
              "      cursor: pointer;\n",
              "      display: none;\n",
              "      fill: #1967D2;\n",
              "      height: 32px;\n",
              "      padding: 0 0 0 0;\n",
              "      width: 32px;\n",
              "    }\n",
              "\n",
              "    .colab-df-convert:hover {\n",
              "      background-color: #E2EBFA;\n",
              "      box-shadow: 0px 1px 2px rgba(60, 64, 67, 0.3), 0px 1px 3px 1px rgba(60, 64, 67, 0.15);\n",
              "      fill: #174EA6;\n",
              "    }\n",
              "\n",
              "    [theme=dark] .colab-df-convert {\n",
              "      background-color: #3B4455;\n",
              "      fill: #D2E3FC;\n",
              "    }\n",
              "\n",
              "    [theme=dark] .colab-df-convert:hover {\n",
              "      background-color: #434B5C;\n",
              "      box-shadow: 0px 1px 3px 1px rgba(0, 0, 0, 0.15);\n",
              "      filter: drop-shadow(0px 1px 2px rgba(0, 0, 0, 0.3));\n",
              "      fill: #FFFFFF;\n",
              "    }\n",
              "  </style>\n",
              "\n",
              "      <script>\n",
              "        const buttonEl =\n",
              "          document.querySelector('#df-249c01d9-9112-4c67-9d4f-b432296e0d25 button.colab-df-convert');\n",
              "        buttonEl.style.display =\n",
              "          google.colab.kernel.accessAllowed ? 'block' : 'none';\n",
              "\n",
              "        async function convertToInteractive(key) {\n",
              "          const element = document.querySelector('#df-249c01d9-9112-4c67-9d4f-b432296e0d25');\n",
              "          const dataTable =\n",
              "            await google.colab.kernel.invokeFunction('convertToInteractive',\n",
              "                                                     [key], {});\n",
              "          if (!dataTable) return;\n",
              "\n",
              "          const docLinkHtml = 'Like what you see? Visit the ' +\n",
              "            '<a target=\"_blank\" href=https://colab.research.google.com/notebooks/data_table.ipynb>data table notebook</a>'\n",
              "            + ' to learn more about interactive tables.';\n",
              "          element.innerHTML = '';\n",
              "          dataTable['output_type'] = 'display_data';\n",
              "          await google.colab.output.renderOutput(dataTable, element);\n",
              "          const docLink = document.createElement('div');\n",
              "          docLink.innerHTML = docLinkHtml;\n",
              "          element.appendChild(docLink);\n",
              "        }\n",
              "      </script>\n",
              "    </div>\n",
              "  </div>\n",
              "  "
            ]
          },
          "metadata": {},
          "execution_count": 22
        }
      ],
      "source": [
        "nume_col_profiles_df = vn_house_df[numerical_cols].agg([missing_ratio])\n",
        "nume_col_profiles_df"
      ]
    },
    {
      "cell_type": "markdown",
      "metadata": {
        "id": "hq_vfAVZVDoi"
      },
      "source": [
        "### Với mỗi cột categorical, dữ liệu được phân bố như thế nào?"
      ]
    },
    {
      "cell_type": "code",
      "execution_count": 23,
      "metadata": {
        "colab": {
          "base_uri": "https://localhost:8080/",
          "height": 143
        },
        "id": "iW5kxKHlVDoi",
        "outputId": "cd2b83d3-becb-44f1-f4b8-9d085bd6e1ae"
      },
      "outputs": [
        {
          "output_type": "execute_result",
          "data": {
            "text/plain": [
              "                                                 Loại hình nhà ở  \\\n",
              "missing_ratio                                           0.023288   \n",
              "num_diff_vals                                                  4   \n",
              "diff_vals      [Nhà ngõ, hẻm, Nhà mặt phố, mặt tiền, Nhà phố ...   \n",
              "\n",
              "                                     Giấy tờ pháp lý  \n",
              "missing_ratio                              35.081139  \n",
              "num_diff_vals                                      3  \n",
              "diff_vals      [Đã có sổ, Đang chờ sổ, Giấy tờ khác]  "
            ],
            "text/html": [
              "\n",
              "  <div id=\"df-6208bd97-e70a-4f91-9ad1-9283559ee366\">\n",
              "    <div class=\"colab-df-container\">\n",
              "      <div>\n",
              "<style scoped>\n",
              "    .dataframe tbody tr th:only-of-type {\n",
              "        vertical-align: middle;\n",
              "    }\n",
              "\n",
              "    .dataframe tbody tr th {\n",
              "        vertical-align: top;\n",
              "    }\n",
              "\n",
              "    .dataframe thead th {\n",
              "        text-align: right;\n",
              "    }\n",
              "</style>\n",
              "<table border=\"1\" class=\"dataframe\">\n",
              "  <thead>\n",
              "    <tr style=\"text-align: right;\">\n",
              "      <th></th>\n",
              "      <th>Loại hình nhà ở</th>\n",
              "      <th>Giấy tờ pháp lý</th>\n",
              "    </tr>\n",
              "  </thead>\n",
              "  <tbody>\n",
              "    <tr>\n",
              "      <th>missing_ratio</th>\n",
              "      <td>0.023288</td>\n",
              "      <td>35.081139</td>\n",
              "    </tr>\n",
              "    <tr>\n",
              "      <th>num_diff_vals</th>\n",
              "      <td>4</td>\n",
              "      <td>3</td>\n",
              "    </tr>\n",
              "    <tr>\n",
              "      <th>diff_vals</th>\n",
              "      <td>[Nhà ngõ, hẻm, Nhà mặt phố, mặt tiền, Nhà phố ...</td>\n",
              "      <td>[Đã có sổ, Đang chờ sổ, Giấy tờ khác]</td>\n",
              "    </tr>\n",
              "  </tbody>\n",
              "</table>\n",
              "</div>\n",
              "      <button class=\"colab-df-convert\" onclick=\"convertToInteractive('df-6208bd97-e70a-4f91-9ad1-9283559ee366')\"\n",
              "              title=\"Convert this dataframe to an interactive table.\"\n",
              "              style=\"display:none;\">\n",
              "        \n",
              "  <svg xmlns=\"http://www.w3.org/2000/svg\" height=\"24px\"viewBox=\"0 0 24 24\"\n",
              "       width=\"24px\">\n",
              "    <path d=\"M0 0h24v24H0V0z\" fill=\"none\"/>\n",
              "    <path d=\"M18.56 5.44l.94 2.06.94-2.06 2.06-.94-2.06-.94-.94-2.06-.94 2.06-2.06.94zm-11 1L8.5 8.5l.94-2.06 2.06-.94-2.06-.94L8.5 2.5l-.94 2.06-2.06.94zm10 10l.94 2.06.94-2.06 2.06-.94-2.06-.94-.94-2.06-.94 2.06-2.06.94z\"/><path d=\"M17.41 7.96l-1.37-1.37c-.4-.4-.92-.59-1.43-.59-.52 0-1.04.2-1.43.59L10.3 9.45l-7.72 7.72c-.78.78-.78 2.05 0 2.83L4 21.41c.39.39.9.59 1.41.59.51 0 1.02-.2 1.41-.59l7.78-7.78 2.81-2.81c.8-.78.8-2.07 0-2.86zM5.41 20L4 18.59l7.72-7.72 1.47 1.35L5.41 20z\"/>\n",
              "  </svg>\n",
              "      </button>\n",
              "      \n",
              "  <style>\n",
              "    .colab-df-container {\n",
              "      display:flex;\n",
              "      flex-wrap:wrap;\n",
              "      gap: 12px;\n",
              "    }\n",
              "\n",
              "    .colab-df-convert {\n",
              "      background-color: #E8F0FE;\n",
              "      border: none;\n",
              "      border-radius: 50%;\n",
              "      cursor: pointer;\n",
              "      display: none;\n",
              "      fill: #1967D2;\n",
              "      height: 32px;\n",
              "      padding: 0 0 0 0;\n",
              "      width: 32px;\n",
              "    }\n",
              "\n",
              "    .colab-df-convert:hover {\n",
              "      background-color: #E2EBFA;\n",
              "      box-shadow: 0px 1px 2px rgba(60, 64, 67, 0.3), 0px 1px 3px 1px rgba(60, 64, 67, 0.15);\n",
              "      fill: #174EA6;\n",
              "    }\n",
              "\n",
              "    [theme=dark] .colab-df-convert {\n",
              "      background-color: #3B4455;\n",
              "      fill: #D2E3FC;\n",
              "    }\n",
              "\n",
              "    [theme=dark] .colab-df-convert:hover {\n",
              "      background-color: #434B5C;\n",
              "      box-shadow: 0px 1px 3px 1px rgba(0, 0, 0, 0.15);\n",
              "      filter: drop-shadow(0px 1px 2px rgba(0, 0, 0, 0.3));\n",
              "      fill: #FFFFFF;\n",
              "    }\n",
              "  </style>\n",
              "\n",
              "      <script>\n",
              "        const buttonEl =\n",
              "          document.querySelector('#df-6208bd97-e70a-4f91-9ad1-9283559ee366 button.colab-df-convert');\n",
              "        buttonEl.style.display =\n",
              "          google.colab.kernel.accessAllowed ? 'block' : 'none';\n",
              "\n",
              "        async function convertToInteractive(key) {\n",
              "          const element = document.querySelector('#df-6208bd97-e70a-4f91-9ad1-9283559ee366');\n",
              "          const dataTable =\n",
              "            await google.colab.kernel.invokeFunction('convertToInteractive',\n",
              "                                                     [key], {});\n",
              "          if (!dataTable) return;\n",
              "\n",
              "          const docLinkHtml = 'Like what you see? Visit the ' +\n",
              "            '<a target=\"_blank\" href=https://colab.research.google.com/notebooks/data_table.ipynb>data table notebook</a>'\n",
              "            + ' to learn more about interactive tables.';\n",
              "          element.innerHTML = '';\n",
              "          dataTable['output_type'] = 'display_data';\n",
              "          await google.colab.output.renderOutput(dataTable, element);\n",
              "          const docLink = document.createElement('div');\n",
              "          docLink.innerHTML = docLinkHtml;\n",
              "          element.appendChild(docLink);\n",
              "        }\n",
              "      </script>\n",
              "    </div>\n",
              "  </div>\n",
              "  "
            ]
          },
          "metadata": {},
          "execution_count": 23
        }
      ],
      "source": [
        "def num_diff_vals(col):\n",
        "    return len(col.value_counts())\n",
        "def diff_vals(col):\n",
        "    return col.value_counts().index.unique().to_numpy()\n",
        "\n",
        "cate_col_profiles_df = vn_house_df[categorical_cols].agg([missing_ratio,num_diff_vals,diff_vals])\n",
        "cate_col_profiles_df"
      ]
    },
    {
      "cell_type": "markdown",
      "metadata": {
        "id": "P02Rapx4VDoi"
      },
      "source": [
        "Loại hình nhà ở có 4 giá trị khác nhau là Nhà ngõ, hẻm, Nhà mặt phố, mặt tiền, Nhà phố liền kề."
      ]
    },
    {
      "cell_type": "markdown",
      "metadata": {
        "id": "cIfPUNKYVDoj"
      },
      "source": [
        "Giấy tờ pháp lý có 3 giá trị khác nhau là Đã có sổ, Đang chờ sổ, Giấy tờ khác"
      ]
    },
    {
      "cell_type": "markdown",
      "metadata": {
        "id": "A8P0OcqWVDoj"
      },
      "source": [
        "Xét về missing ratio thì loại hình nhà ở chỉ thiếu khoảng 0.03%, không đáng kể, trong khi giấy tờ pháp lý thì lại thiếu tới 35%. Chứng tỏ khoảng 1/3 hộ gia đình thiếu hoặc không khai báo giấy tờ nhà của hộ."
      ]
    },
    {
      "cell_type": "markdown",
      "metadata": {
        "id": "4QaA4uTFVDoj"
      },
      "source": [
        "Ở đây ta sẽ thực hiện 2 việc:\n",
        "- Bỏ những dòng giá trị nan ở cột loại hình nhà ở\n",
        "- Thay giá trị nan ở cột giấy tờ pháp lý thành chưa có giấy tờ"
      ]
    },
    {
      "cell_type": "code",
      "execution_count": 24,
      "metadata": {
        "colab": {
          "base_uri": "https://localhost:8080/"
        },
        "id": "e52ZZhd3VDoj",
        "outputId": "7b1e3797-9cc5-4453-b9dd-638586672d80"
      },
      "outputs": [
        {
          "output_type": "stream",
          "name": "stderr",
          "text": [
            "/usr/local/lib/python3.7/dist-packages/pandas/util/_decorators.py:311: SettingWithCopyWarning: \n",
            "A value is trying to be set on a copy of a slice from a DataFrame\n",
            "\n",
            "See the caveats in the documentation: https://pandas.pydata.org/pandas-docs/stable/user_guide/indexing.html#returning-a-view-versus-a-copy\n",
            "  return func(*args, **kwargs)\n"
          ]
        }
      ],
      "source": [
        "vn_house_df.dropna(subset=['Loại hình nhà ở'], how='all', inplace=True)"
      ]
    },
    {
      "cell_type": "code",
      "execution_count": 25,
      "metadata": {
        "colab": {
          "base_uri": "https://localhost:8080/"
        },
        "id": "cgG9M232VDoj",
        "outputId": "69294a84-51e7-43d6-8025-574f4bd32335"
      },
      "outputs": [
        {
          "output_type": "stream",
          "name": "stderr",
          "text": [
            "/usr/local/lib/python3.7/dist-packages/ipykernel_launcher.py:1: SettingWithCopyWarning: \n",
            "A value is trying to be set on a copy of a slice from a DataFrame.\n",
            "Try using .loc[row_indexer,col_indexer] = value instead\n",
            "\n",
            "See the caveats in the documentation: https://pandas.pydata.org/pandas-docs/stable/user_guide/indexing.html#returning-a-view-versus-a-copy\n",
            "  \"\"\"Entry point for launching an IPython kernel.\n"
          ]
        }
      ],
      "source": [
        "vn_house_df['Giấy tờ pháp lý'] = vn_house_df['Giấy tờ pháp lý'].fillna('Chưa có giấy tờ')"
      ]
    },
    {
      "cell_type": "code",
      "execution_count": 26,
      "metadata": {
        "colab": {
          "base_uri": "https://localhost:8080/",
          "height": 143
        },
        "id": "ZKTF4Ga5VDok",
        "outputId": "ad48fbd0-fc36-4e7f-ccb3-0de1234803c8"
      },
      "outputs": [
        {
          "output_type": "execute_result",
          "data": {
            "text/plain": [
              "                                                 Loại hình nhà ở  \\\n",
              "missing_ratio                                                0.0   \n",
              "num_diff_vals                                                  4   \n",
              "diff_vals      [Nhà ngõ, hẻm, Nhà mặt phố, mặt tiền, Nhà phố ...   \n",
              "\n",
              "                                                 Giấy tờ pháp lý  \n",
              "missing_ratio                                                0.0  \n",
              "num_diff_vals                                                  4  \n",
              "diff_vals      [Đã có sổ, Chưa có giấy tờ, Đang chờ sổ, Giấy ...  "
            ],
            "text/html": [
              "\n",
              "  <div id=\"df-2078343d-41fa-4e44-bb4c-af7a4f8b3d3d\">\n",
              "    <div class=\"colab-df-container\">\n",
              "      <div>\n",
              "<style scoped>\n",
              "    .dataframe tbody tr th:only-of-type {\n",
              "        vertical-align: middle;\n",
              "    }\n",
              "\n",
              "    .dataframe tbody tr th {\n",
              "        vertical-align: top;\n",
              "    }\n",
              "\n",
              "    .dataframe thead th {\n",
              "        text-align: right;\n",
              "    }\n",
              "</style>\n",
              "<table border=\"1\" class=\"dataframe\">\n",
              "  <thead>\n",
              "    <tr style=\"text-align: right;\">\n",
              "      <th></th>\n",
              "      <th>Loại hình nhà ở</th>\n",
              "      <th>Giấy tờ pháp lý</th>\n",
              "    </tr>\n",
              "  </thead>\n",
              "  <tbody>\n",
              "    <tr>\n",
              "      <th>missing_ratio</th>\n",
              "      <td>0.0</td>\n",
              "      <td>0.0</td>\n",
              "    </tr>\n",
              "    <tr>\n",
              "      <th>num_diff_vals</th>\n",
              "      <td>4</td>\n",
              "      <td>4</td>\n",
              "    </tr>\n",
              "    <tr>\n",
              "      <th>diff_vals</th>\n",
              "      <td>[Nhà ngõ, hẻm, Nhà mặt phố, mặt tiền, Nhà phố ...</td>\n",
              "      <td>[Đã có sổ, Chưa có giấy tờ, Đang chờ sổ, Giấy ...</td>\n",
              "    </tr>\n",
              "  </tbody>\n",
              "</table>\n",
              "</div>\n",
              "      <button class=\"colab-df-convert\" onclick=\"convertToInteractive('df-2078343d-41fa-4e44-bb4c-af7a4f8b3d3d')\"\n",
              "              title=\"Convert this dataframe to an interactive table.\"\n",
              "              style=\"display:none;\">\n",
              "        \n",
              "  <svg xmlns=\"http://www.w3.org/2000/svg\" height=\"24px\"viewBox=\"0 0 24 24\"\n",
              "       width=\"24px\">\n",
              "    <path d=\"M0 0h24v24H0V0z\" fill=\"none\"/>\n",
              "    <path d=\"M18.56 5.44l.94 2.06.94-2.06 2.06-.94-2.06-.94-.94-2.06-.94 2.06-2.06.94zm-11 1L8.5 8.5l.94-2.06 2.06-.94-2.06-.94L8.5 2.5l-.94 2.06-2.06.94zm10 10l.94 2.06.94-2.06 2.06-.94-2.06-.94-.94-2.06-.94 2.06-2.06.94z\"/><path d=\"M17.41 7.96l-1.37-1.37c-.4-.4-.92-.59-1.43-.59-.52 0-1.04.2-1.43.59L10.3 9.45l-7.72 7.72c-.78.78-.78 2.05 0 2.83L4 21.41c.39.39.9.59 1.41.59.51 0 1.02-.2 1.41-.59l7.78-7.78 2.81-2.81c.8-.78.8-2.07 0-2.86zM5.41 20L4 18.59l7.72-7.72 1.47 1.35L5.41 20z\"/>\n",
              "  </svg>\n",
              "      </button>\n",
              "      \n",
              "  <style>\n",
              "    .colab-df-container {\n",
              "      display:flex;\n",
              "      flex-wrap:wrap;\n",
              "      gap: 12px;\n",
              "    }\n",
              "\n",
              "    .colab-df-convert {\n",
              "      background-color: #E8F0FE;\n",
              "      border: none;\n",
              "      border-radius: 50%;\n",
              "      cursor: pointer;\n",
              "      display: none;\n",
              "      fill: #1967D2;\n",
              "      height: 32px;\n",
              "      padding: 0 0 0 0;\n",
              "      width: 32px;\n",
              "    }\n",
              "\n",
              "    .colab-df-convert:hover {\n",
              "      background-color: #E2EBFA;\n",
              "      box-shadow: 0px 1px 2px rgba(60, 64, 67, 0.3), 0px 1px 3px 1px rgba(60, 64, 67, 0.15);\n",
              "      fill: #174EA6;\n",
              "    }\n",
              "\n",
              "    [theme=dark] .colab-df-convert {\n",
              "      background-color: #3B4455;\n",
              "      fill: #D2E3FC;\n",
              "    }\n",
              "\n",
              "    [theme=dark] .colab-df-convert:hover {\n",
              "      background-color: #434B5C;\n",
              "      box-shadow: 0px 1px 3px 1px rgba(0, 0, 0, 0.15);\n",
              "      filter: drop-shadow(0px 1px 2px rgba(0, 0, 0, 0.3));\n",
              "      fill: #FFFFFF;\n",
              "    }\n",
              "  </style>\n",
              "\n",
              "      <script>\n",
              "        const buttonEl =\n",
              "          document.querySelector('#df-2078343d-41fa-4e44-bb4c-af7a4f8b3d3d button.colab-df-convert');\n",
              "        buttonEl.style.display =\n",
              "          google.colab.kernel.accessAllowed ? 'block' : 'none';\n",
              "\n",
              "        async function convertToInteractive(key) {\n",
              "          const element = document.querySelector('#df-2078343d-41fa-4e44-bb4c-af7a4f8b3d3d');\n",
              "          const dataTable =\n",
              "            await google.colab.kernel.invokeFunction('convertToInteractive',\n",
              "                                                     [key], {});\n",
              "          if (!dataTable) return;\n",
              "\n",
              "          const docLinkHtml = 'Like what you see? Visit the ' +\n",
              "            '<a target=\"_blank\" href=https://colab.research.google.com/notebooks/data_table.ipynb>data table notebook</a>'\n",
              "            + ' to learn more about interactive tables.';\n",
              "          element.innerHTML = '';\n",
              "          dataTable['output_type'] = 'display_data';\n",
              "          await google.colab.output.renderOutput(dataTable, element);\n",
              "          const docLink = document.createElement('div');\n",
              "          docLink.innerHTML = docLinkHtml;\n",
              "          element.appendChild(docLink);\n",
              "        }\n",
              "      </script>\n",
              "    </div>\n",
              "  </div>\n",
              "  "
            ]
          },
          "metadata": {},
          "execution_count": 26
        }
      ],
      "source": [
        "cate_col_profiles_df = vn_house_df[categorical_cols].agg([missing_ratio,num_diff_vals,diff_vals])\n",
        "cate_col_profiles_df"
      ]
    },
    {
      "cell_type": "markdown",
      "metadata": {
        "id": "bSE-eUl7VDok"
      },
      "source": [
        ""
      ]
    },
    {
      "cell_type": "markdown",
      "metadata": {
        "id": "44vIZhTRVDok"
      },
      "source": [
        ""
      ]
    },
    {
      "cell_type": "markdown",
      "metadata": {
        "id": "e9UWjWnTVDok"
      },
      "source": [
        "## Phân tích hồi quy, dự báo"
      ]
    },
    {
      "cell_type": "markdown",
      "metadata": {
        "id": "P65mzMxkVDok"
      },
      "source": [
        "### Trần Quỳnh Như"
      ]
    },
    {
      "cell_type": "markdown",
      "source": [
        "## Thay đổi tên các cột thành tiếng Anh"
      ],
      "metadata": {
        "id": "_sKxri1LxKVd"
      }
    },
    {
      "cell_type": "code",
      "source": [
        "vn_house_df2 = pd.DataFrame()"
      ],
      "metadata": {
        "id": "AyTF_fqB4Fqv"
      },
      "execution_count": 27,
      "outputs": []
    },
    {
      "cell_type": "markdown",
      "source": [
        "Chọn ra những trường dữ liệu cần thiết cho việc hồi qui"
      ],
      "metadata": {
        "id": "9h5gU1Ry9hgE"
      }
    },
    {
      "cell_type": "code",
      "source": [
        "vn_house_df2['Price'] = vn_house_df['Giá/m2']\n",
        "vn_house_df2['Type'] = vn_house_df['Loại hình nhà ở'] \n",
        "vn_house_df2['Bedrooms'] = vn_house_df['Số phòng ngủ']\n",
        "vn_house_df2['Area'] = vn_house_df['Diện tích']\n",
        "vn_house_df2['Floors'] = vn_house_df['Số tầng']\n",
        "vn_house_df2.head()"
      ],
      "metadata": {
        "colab": {
          "base_uri": "https://localhost:8080/",
          "height": 206
        },
        "id": "r5XVh-ew4BYs",
        "outputId": "abc43935-0303-4b2c-9817-47bfe68364c7"
      },
      "execution_count": 28,
      "outputs": [
        {
          "output_type": "execute_result",
          "data": {
            "text/plain": [
              "     Price                   Type  Bedrooms  Area  Floors\n",
              "0   8696.0           Nhà ngõ, hẻm       5.0  46.0     4.0\n",
              "1  11622.0  Nhà mặt phố, mặt tiền       3.0  37.0     0.0\n",
              "2     65.0           Nhà ngõ, hẻm       4.0  40.0     4.0\n",
              "3    100.0           Nhà ngõ, hẻm       6.0  51.0     0.0\n",
              "4   8611.0           Nhà ngõ, hẻm       4.0  36.0     0.0"
            ],
            "text/html": [
              "\n",
              "  <div id=\"df-42ae8152-a4af-49fe-a5ff-00ea71d6cb60\">\n",
              "    <div class=\"colab-df-container\">\n",
              "      <div>\n",
              "<style scoped>\n",
              "    .dataframe tbody tr th:only-of-type {\n",
              "        vertical-align: middle;\n",
              "    }\n",
              "\n",
              "    .dataframe tbody tr th {\n",
              "        vertical-align: top;\n",
              "    }\n",
              "\n",
              "    .dataframe thead th {\n",
              "        text-align: right;\n",
              "    }\n",
              "</style>\n",
              "<table border=\"1\" class=\"dataframe\">\n",
              "  <thead>\n",
              "    <tr style=\"text-align: right;\">\n",
              "      <th></th>\n",
              "      <th>Price</th>\n",
              "      <th>Type</th>\n",
              "      <th>Bedrooms</th>\n",
              "      <th>Area</th>\n",
              "      <th>Floors</th>\n",
              "    </tr>\n",
              "  </thead>\n",
              "  <tbody>\n",
              "    <tr>\n",
              "      <th>0</th>\n",
              "      <td>8696.0</td>\n",
              "      <td>Nhà ngõ, hẻm</td>\n",
              "      <td>5.0</td>\n",
              "      <td>46.0</td>\n",
              "      <td>4.0</td>\n",
              "    </tr>\n",
              "    <tr>\n",
              "      <th>1</th>\n",
              "      <td>11622.0</td>\n",
              "      <td>Nhà mặt phố, mặt tiền</td>\n",
              "      <td>3.0</td>\n",
              "      <td>37.0</td>\n",
              "      <td>0.0</td>\n",
              "    </tr>\n",
              "    <tr>\n",
              "      <th>2</th>\n",
              "      <td>65.0</td>\n",
              "      <td>Nhà ngõ, hẻm</td>\n",
              "      <td>4.0</td>\n",
              "      <td>40.0</td>\n",
              "      <td>4.0</td>\n",
              "    </tr>\n",
              "    <tr>\n",
              "      <th>3</th>\n",
              "      <td>100.0</td>\n",
              "      <td>Nhà ngõ, hẻm</td>\n",
              "      <td>6.0</td>\n",
              "      <td>51.0</td>\n",
              "      <td>0.0</td>\n",
              "    </tr>\n",
              "    <tr>\n",
              "      <th>4</th>\n",
              "      <td>8611.0</td>\n",
              "      <td>Nhà ngõ, hẻm</td>\n",
              "      <td>4.0</td>\n",
              "      <td>36.0</td>\n",
              "      <td>0.0</td>\n",
              "    </tr>\n",
              "  </tbody>\n",
              "</table>\n",
              "</div>\n",
              "      <button class=\"colab-df-convert\" onclick=\"convertToInteractive('df-42ae8152-a4af-49fe-a5ff-00ea71d6cb60')\"\n",
              "              title=\"Convert this dataframe to an interactive table.\"\n",
              "              style=\"display:none;\">\n",
              "        \n",
              "  <svg xmlns=\"http://www.w3.org/2000/svg\" height=\"24px\"viewBox=\"0 0 24 24\"\n",
              "       width=\"24px\">\n",
              "    <path d=\"M0 0h24v24H0V0z\" fill=\"none\"/>\n",
              "    <path d=\"M18.56 5.44l.94 2.06.94-2.06 2.06-.94-2.06-.94-.94-2.06-.94 2.06-2.06.94zm-11 1L8.5 8.5l.94-2.06 2.06-.94-2.06-.94L8.5 2.5l-.94 2.06-2.06.94zm10 10l.94 2.06.94-2.06 2.06-.94-2.06-.94-.94-2.06-.94 2.06-2.06.94z\"/><path d=\"M17.41 7.96l-1.37-1.37c-.4-.4-.92-.59-1.43-.59-.52 0-1.04.2-1.43.59L10.3 9.45l-7.72 7.72c-.78.78-.78 2.05 0 2.83L4 21.41c.39.39.9.59 1.41.59.51 0 1.02-.2 1.41-.59l7.78-7.78 2.81-2.81c.8-.78.8-2.07 0-2.86zM5.41 20L4 18.59l7.72-7.72 1.47 1.35L5.41 20z\"/>\n",
              "  </svg>\n",
              "      </button>\n",
              "      \n",
              "  <style>\n",
              "    .colab-df-container {\n",
              "      display:flex;\n",
              "      flex-wrap:wrap;\n",
              "      gap: 12px;\n",
              "    }\n",
              "\n",
              "    .colab-df-convert {\n",
              "      background-color: #E8F0FE;\n",
              "      border: none;\n",
              "      border-radius: 50%;\n",
              "      cursor: pointer;\n",
              "      display: none;\n",
              "      fill: #1967D2;\n",
              "      height: 32px;\n",
              "      padding: 0 0 0 0;\n",
              "      width: 32px;\n",
              "    }\n",
              "\n",
              "    .colab-df-convert:hover {\n",
              "      background-color: #E2EBFA;\n",
              "      box-shadow: 0px 1px 2px rgba(60, 64, 67, 0.3), 0px 1px 3px 1px rgba(60, 64, 67, 0.15);\n",
              "      fill: #174EA6;\n",
              "    }\n",
              "\n",
              "    [theme=dark] .colab-df-convert {\n",
              "      background-color: #3B4455;\n",
              "      fill: #D2E3FC;\n",
              "    }\n",
              "\n",
              "    [theme=dark] .colab-df-convert:hover {\n",
              "      background-color: #434B5C;\n",
              "      box-shadow: 0px 1px 3px 1px rgba(0, 0, 0, 0.15);\n",
              "      filter: drop-shadow(0px 1px 2px rgba(0, 0, 0, 0.3));\n",
              "      fill: #FFFFFF;\n",
              "    }\n",
              "  </style>\n",
              "\n",
              "      <script>\n",
              "        const buttonEl =\n",
              "          document.querySelector('#df-42ae8152-a4af-49fe-a5ff-00ea71d6cb60 button.colab-df-convert');\n",
              "        buttonEl.style.display =\n",
              "          google.colab.kernel.accessAllowed ? 'block' : 'none';\n",
              "\n",
              "        async function convertToInteractive(key) {\n",
              "          const element = document.querySelector('#df-42ae8152-a4af-49fe-a5ff-00ea71d6cb60');\n",
              "          const dataTable =\n",
              "            await google.colab.kernel.invokeFunction('convertToInteractive',\n",
              "                                                     [key], {});\n",
              "          if (!dataTable) return;\n",
              "\n",
              "          const docLinkHtml = 'Like what you see? Visit the ' +\n",
              "            '<a target=\"_blank\" href=https://colab.research.google.com/notebooks/data_table.ipynb>data table notebook</a>'\n",
              "            + ' to learn more about interactive tables.';\n",
              "          element.innerHTML = '';\n",
              "          dataTable['output_type'] = 'display_data';\n",
              "          await google.colab.output.renderOutput(dataTable, element);\n",
              "          const docLink = document.createElement('div');\n",
              "          docLink.innerHTML = docLinkHtml;\n",
              "          element.appendChild(docLink);\n",
              "        }\n",
              "      </script>\n",
              "    </div>\n",
              "  </div>\n",
              "  "
            ]
          },
          "metadata": {},
          "execution_count": 28
        }
      ]
    },
    {
      "cell_type": "markdown",
      "source": [
        "## Mô hình hồi qui với Price ~ Bedrooms + Area"
      ],
      "metadata": {
        "id": "6zf7hzKe6DjL"
      }
    },
    {
      "cell_type": "code",
      "source": [
        "res = smf.ols(formula='Price ~ Bedrooms + Area', data=vn_house_df2).fit()\n",
        "print(res.summary())"
      ],
      "metadata": {
        "colab": {
          "base_uri": "https://localhost:8080/"
        },
        "id": "BeYGZOBI3ke3",
        "outputId": "e93a9e15-be2a-4e00-8ec3-6e5f8452ec01"
      },
      "execution_count": 29,
      "outputs": [
        {
          "output_type": "stream",
          "name": "stdout",
          "text": [
            "                            OLS Regression Results                            \n",
            "==============================================================================\n",
            "Dep. Variable:                  Price   R-squared:                       0.028\n",
            "Model:                            OLS   Adj. R-squared:                  0.028\n",
            "Method:                 Least Squares   F-statistic:                     1194.\n",
            "Date:                Wed, 20 Apr 2022   Prob (F-statistic):               0.00\n",
            "Time:                        17:26:54   Log-Likelihood:            -8.3471e+05\n",
            "No. Observations:               81569   AIC:                         1.669e+06\n",
            "Df Residuals:                   81566   BIC:                         1.669e+06\n",
            "Df Model:                           2                                         \n",
            "Covariance Type:            nonrobust                                         \n",
            "==============================================================================\n",
            "                 coef    std err          t      P>|t|      [0.025      0.975]\n",
            "------------------------------------------------------------------------------\n",
            "Intercept   4379.8017     66.136     66.224      0.000    4250.176    4509.428\n",
            "Bedrooms     758.9257     15.925     47.656      0.000     727.713     790.139\n",
            "Area           1.4156      0.381      3.718      0.000       0.669       2.162\n",
            "==============================================================================\n",
            "Omnibus:                    55547.496   Durbin-Watson:                   1.990\n",
            "Prob(Omnibus):                  0.000   Jarque-Bera (JB):          1777365.902\n",
            "Skew:                           2.848   Prob(JB):                         0.00\n",
            "Kurtosis:                      25.147   Cond. No.                         226.\n",
            "==============================================================================\n",
            "\n",
            "Warnings:\n",
            "[1] Standard Errors assume that the covariance matrix of the errors is correctly specified.\n"
          ]
        }
      ]
    },
    {
      "cell_type": "markdown",
      "source": [
        "# Nhận xét các giá trị quan trọng của Summary"
      ],
      "metadata": {
        "id": "_92FjoAdAr1Z"
      }
    },
    {
      "cell_type": "markdown",
      "source": [
        "* `R-squared` và `Adj. R-squared` có giá trị 0.028 **> 0**\n",
        "* `Coefficient`: các giá trị đều **dương**\n",
        "    * `Intercept`: 4379.8017 -> Hệ số tự do **b** (trong công thức **y = ax + b**) ảnh hưởng lớn đến Price\n",
        "    * `Bedrooms`: 758.9257 -> Số lượng phòng ngủ ảnh hưởng khá lớn đến Price\n",
        "    * `Area`: 1.4156 -> Diện tích có ảnh hưởng ít đến Price"
      ],
      "metadata": {
        "id": "j5fa9MDM-9Xi"
      }
    },
    {
      "cell_type": "markdown",
      "source": [
        "## Trực quan mô hình hồi qui"
      ],
      "metadata": {
        "id": "wJwh4zOuBeBO"
      }
    },
    {
      "cell_type": "code",
      "source": [
        "fig = plt.figure(figsize=(20, 10))\n",
        "sm.graphics.plot_partregress_grid(res, fig=fig)\n",
        "plt.show()"
      ],
      "metadata": {
        "colab": {
          "base_uri": "https://localhost:8080/",
          "height": 726
        },
        "id": "9fO8ewN038Qa",
        "outputId": "724281d4-c2cf-4cae-f4e9-1dce7a0c774e"
      },
      "execution_count": 30,
      "outputs": [
        {
          "output_type": "display_data",
          "data": {
            "text/plain": [
              "<Figure size 1440x720 with 3 Axes>"
            ],
            "image/png": "[encoded data removed]"
          },
          "metadata": {
            "needs_background": "light"
          }
        }
      ]
    }
  ],
  "metadata": {
    "interpreter": {
      "hash": "b89b5cfaba6639976dc87ff2fec6d58faec662063367e2c229c520fe71072417"
    },
    "kernelspec": {
      "display_name": "Python 3 (ipykernel)",
      "language": "python",
      "name": "python3"
    },
    "language_info": {
      "codemirror_mode": {
        "name": "ipython",
        "version": 3
      },
      "file_extension": ".py",
      "mimetype": "text/x-python",
      "name": "python",
      "nbconvert_exporter": "python",
      "pygments_lexer": "ipython3",
      "version": "3.9.5"
    },
    "colab": {
      "name": "main.ipynb",
      "provenance": [],
      "collapsed_sections": [
        "3qcDHPSCVDog"
      ],
      "toc_visible": true
    }
  },
  "nbformat": 4,
  "nbformat_minor": 0
}